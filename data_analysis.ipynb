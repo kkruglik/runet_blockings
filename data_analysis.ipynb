{
 "cells": [
  {
   "cell_type": "markdown",
   "id": "cab10f62",
   "metadata": {},
   "source": [
    "**Data analysis**"
   ]
  },
  {
   "cell_type": "markdown",
   "id": "09d8bc95",
   "metadata": {
    "papermill": {
     "duration": 0.002012,
     "end_time": "2022-07-15T14:05:56.181848",
     "exception": false,
     "start_time": "2022-07-15T14:05:56.179836",
     "status": "completed"
    },
    "tags": []
   },
   "source": [
    "После 24 февраля в России заблокировали практически все независимые издания, три крупнейшие соцсети и периодически взникают слухи и блокировки ютуба. Есть идея сделать короткий материал и показать на цифрах насколько 2022 год отличается (отличается ли?) от блокировок в прошлые годы."
   ]
  },
  {
   "cell_type": "code",
   "execution_count": 1,
   "id": "354c9da7",
   "metadata": {},
   "outputs": [],
   "source": [
    "import matplotlib.pyplot as plt\n",
    "import seaborn as sns\n",
    "import pandas as pd\n",
    "import numpy as np\n",
    "\n",
    "sns.set_theme(style='whitegrid')\n",
    "sns.set(rc={\"figure.figsize\":(12, 7)})"
   ]
  },
  {
   "cell_type": "code",
   "execution_count": 2,
   "id": "f22be717",
   "metadata": {
    "scrolled": true
   },
   "outputs": [
    {
     "data": {
      "text/html": [
       "<div>\n",
       "<style scoped>\n",
       "    .dataframe tbody tr th:only-of-type {\n",
       "        vertical-align: middle;\n",
       "    }\n",
       "\n",
       "    .dataframe tbody tr th {\n",
       "        vertical-align: top;\n",
       "    }\n",
       "\n",
       "    .dataframe thead th {\n",
       "        text-align: right;\n",
       "    }\n",
       "</style>\n",
       "<table border=\"1\" class=\"dataframe\">\n",
       "  <thead>\n",
       "    <tr style=\"text-align: right;\">\n",
       "      <th></th>\n",
       "      <th>date</th>\n",
       "      <th>site</th>\n",
       "      <th>who_blocked</th>\n",
       "      <th>count_of_blocked_domains</th>\n",
       "      <th>year</th>\n",
       "      <th>month</th>\n",
       "    </tr>\n",
       "  </thead>\n",
       "  <tbody>\n",
       "    <tr>\n",
       "      <th>0</th>\n",
       "      <td>2022-07-15</td>\n",
       "      <td>piratebayproxy.autos</td>\n",
       "      <td>Минкомсвязь</td>\n",
       "      <td>0</td>\n",
       "      <td>2022</td>\n",
       "      <td>7</td>\n",
       "    </tr>\n",
       "    <tr>\n",
       "      <th>1</th>\n",
       "      <td>2022-07-15</td>\n",
       "      <td>plan-a.guru</td>\n",
       "      <td>Генпрокуратура</td>\n",
       "      <td>0</td>\n",
       "      <td>2022</td>\n",
       "      <td>7</td>\n",
       "    </tr>\n",
       "    <tr>\n",
       "      <th>2</th>\n",
       "      <td>2022-07-15</td>\n",
       "      <td>nu15.kinovod.cam</td>\n",
       "      <td>Минкомсвязь</td>\n",
       "      <td>0</td>\n",
       "      <td>2022</td>\n",
       "      <td>7</td>\n",
       "    </tr>\n",
       "    <tr>\n",
       "      <th>3</th>\n",
       "      <td>2022-07-15</td>\n",
       "      <td>mega-pesni.one</td>\n",
       "      <td>Минкомсвязь</td>\n",
       "      <td>0</td>\n",
       "      <td>2022</td>\n",
       "      <td>7</td>\n",
       "    </tr>\n",
       "    <tr>\n",
       "      <th>4</th>\n",
       "      <td>2022-07-15</td>\n",
       "      <td>thepiratebay.gg</td>\n",
       "      <td>Минкомсвязь</td>\n",
       "      <td>0</td>\n",
       "      <td>2022</td>\n",
       "      <td>7</td>\n",
       "    </tr>\n",
       "  </tbody>\n",
       "</table>\n",
       "</div>"
      ],
      "text/plain": [
       "        date                  site     who_blocked  count_of_blocked_domains  \\\n",
       "0 2022-07-15  piratebayproxy.autos     Минкомсвязь                         0   \n",
       "1 2022-07-15           plan-a.guru  Генпрокуратура                         0   \n",
       "2 2022-07-15      nu15.kinovod.cam     Минкомсвязь                         0   \n",
       "3 2022-07-15        mega-pesni.one     Минкомсвязь                         0   \n",
       "4 2022-07-15       thepiratebay.gg     Минкомсвязь                         0   \n",
       "\n",
       "   year  month  \n",
       "0  2022      7  \n",
       "1  2022      7  \n",
       "2  2022      7  \n",
       "3  2022      7  \n",
       "4  2022      7  "
      ]
     },
     "execution_count": 2,
     "metadata": {},
     "output_type": "execute_result"
    }
   ],
   "source": [
    "data = pd.read_csv('scraped_blocking_data.csv', index_col=0)\n",
    "data.date = pd.to_datetime(data.date)\n",
    "\n",
    "# пример данных от Роскомсвободы\n",
    "data.head()"
   ]
  },
  {
   "cell_type": "markdown",
   "id": "082b616c",
   "metadata": {},
   "source": [
    "Заблокированных сайтов за 7 месяцев в 2022 году уже больше, чем за весь 2020 год. И постепенно эта цифра приближается к рекордному по блокировкам 2021 году. "
   ]
  },
  {
   "cell_type": "code",
   "execution_count": 3,
   "id": "3f168136",
   "metadata": {},
   "outputs": [
    {
     "data": {
      "text/html": [
       "<div>\n",
       "<style scoped>\n",
       "    .dataframe tbody tr th:only-of-type {\n",
       "        vertical-align: middle;\n",
       "    }\n",
       "\n",
       "    .dataframe tbody tr th {\n",
       "        vertical-align: top;\n",
       "    }\n",
       "\n",
       "    .dataframe thead th {\n",
       "        text-align: right;\n",
       "    }\n",
       "</style>\n",
       "<table border=\"1\" class=\"dataframe\">\n",
       "  <thead>\n",
       "    <tr style=\"text-align: right;\">\n",
       "      <th></th>\n",
       "      <th>year</th>\n",
       "      <th>size</th>\n",
       "    </tr>\n",
       "  </thead>\n",
       "  <tbody>\n",
       "    <tr>\n",
       "      <th>0</th>\n",
       "      <td>2012</td>\n",
       "      <td>1</td>\n",
       "    </tr>\n",
       "    <tr>\n",
       "      <th>1</th>\n",
       "      <td>2013</td>\n",
       "      <td>24</td>\n",
       "    </tr>\n",
       "    <tr>\n",
       "      <th>2</th>\n",
       "      <td>2014</td>\n",
       "      <td>1511</td>\n",
       "    </tr>\n",
       "    <tr>\n",
       "      <th>3</th>\n",
       "      <td>2015</td>\n",
       "      <td>2970</td>\n",
       "    </tr>\n",
       "    <tr>\n",
       "      <th>4</th>\n",
       "      <td>2016</td>\n",
       "      <td>12092</td>\n",
       "    </tr>\n",
       "    <tr>\n",
       "      <th>5</th>\n",
       "      <td>2017</td>\n",
       "      <td>19612</td>\n",
       "    </tr>\n",
       "    <tr>\n",
       "      <th>6</th>\n",
       "      <td>2018</td>\n",
       "      <td>51728</td>\n",
       "    </tr>\n",
       "    <tr>\n",
       "      <th>7</th>\n",
       "      <td>2019</td>\n",
       "      <td>83770</td>\n",
       "    </tr>\n",
       "    <tr>\n",
       "      <th>8</th>\n",
       "      <td>2020</td>\n",
       "      <td>123554</td>\n",
       "    </tr>\n",
       "    <tr>\n",
       "      <th>9</th>\n",
       "      <td>2021</td>\n",
       "      <td>159248</td>\n",
       "    </tr>\n",
       "    <tr>\n",
       "      <th>10</th>\n",
       "      <td>2022</td>\n",
       "      <td>124893</td>\n",
       "    </tr>\n",
       "  </tbody>\n",
       "</table>\n",
       "</div>"
      ],
      "text/plain": [
       "    year    size\n",
       "0   2012       1\n",
       "1   2013      24\n",
       "2   2014    1511\n",
       "3   2015    2970\n",
       "4   2016   12092\n",
       "5   2017   19612\n",
       "6   2018   51728\n",
       "7   2019   83770\n",
       "8   2020  123554\n",
       "9   2021  159248\n",
       "10  2022  124893"
      ]
     },
     "execution_count": 3,
     "metadata": {},
     "output_type": "execute_result"
    }
   ],
   "source": [
    "data.groupby('year', as_index=False).size()"
   ]
  },
  {
   "cell_type": "code",
   "execution_count": 4,
   "id": "522996d6",
   "metadata": {},
   "outputs": [
    {
     "data": {
      "image/png": "[encoded data removed]",
      "text/plain": [
       "<Figure size 864x504 with 1 Axes>"
      ]
     },
     "metadata": {},
     "output_type": "display_data"
    }
   ],
   "source": [
    "sns.countplot(\n",
    "    data=data,\n",
    "    x='year',\n",
    ").set_title('Блокировки сайтов c 2012 по 2022 год', fontsize=20);"
   ]
  },
  {
   "cell_type": "code",
   "execution_count": 5,
   "id": "cfad96ef",
   "metadata": {},
   "outputs": [
    {
     "data": {
      "image/png": "[encoded data removed]",
      "text/plain": [
       "<Figure size 864x504 with 1 Axes>"
      ]
     },
     "metadata": {},
     "output_type": "display_data"
    }
   ],
   "source": [
    "# same but lineplot\n",
    "sns.lineplot(\n",
    "    data=data.groupby('year').size(),\n",
    ").set_title('Блокировки сайтов c 2012 по 2022 год', fontsize=20);"
   ]
  },
  {
   "cell_type": "code",
   "execution_count": 6,
   "id": "02e0b752",
   "metadata": {},
   "outputs": [
    {
     "data": {
      "text/html": [
       "<div>\n",
       "<style scoped>\n",
       "    .dataframe tbody tr th:only-of-type {\n",
       "        vertical-align: middle;\n",
       "    }\n",
       "\n",
       "    .dataframe tbody tr th {\n",
       "        vertical-align: top;\n",
       "    }\n",
       "\n",
       "    .dataframe thead th {\n",
       "        text-align: right;\n",
       "    }\n",
       "</style>\n",
       "<table border=\"1\" class=\"dataframe\">\n",
       "  <thead>\n",
       "    <tr style=\"text-align: right;\">\n",
       "      <th></th>\n",
       "      <th>date</th>\n",
       "      <th>site</th>\n",
       "      <th>who_blocked</th>\n",
       "      <th>count_of_blocked_domains</th>\n",
       "      <th>year</th>\n",
       "      <th>month</th>\n",
       "    </tr>\n",
       "  </thead>\n",
       "  <tbody>\n",
       "    <tr>\n",
       "      <th>0</th>\n",
       "      <td>2022-07-15</td>\n",
       "      <td>piratebayproxy.autos</td>\n",
       "      <td>Минкомсвязь</td>\n",
       "      <td>0</td>\n",
       "      <td>2022</td>\n",
       "      <td>7</td>\n",
       "    </tr>\n",
       "    <tr>\n",
       "      <th>1</th>\n",
       "      <td>2022-07-15</td>\n",
       "      <td>plan-a.guru</td>\n",
       "      <td>Генпрокуратура</td>\n",
       "      <td>0</td>\n",
       "      <td>2022</td>\n",
       "      <td>7</td>\n",
       "    </tr>\n",
       "    <tr>\n",
       "      <th>2</th>\n",
       "      <td>2022-07-15</td>\n",
       "      <td>nu15.kinovod.cam</td>\n",
       "      <td>Минкомсвязь</td>\n",
       "      <td>0</td>\n",
       "      <td>2022</td>\n",
       "      <td>7</td>\n",
       "    </tr>\n",
       "    <tr>\n",
       "      <th>3</th>\n",
       "      <td>2022-07-15</td>\n",
       "      <td>mega-pesni.one</td>\n",
       "      <td>Минкомсвязь</td>\n",
       "      <td>0</td>\n",
       "      <td>2022</td>\n",
       "      <td>7</td>\n",
       "    </tr>\n",
       "    <tr>\n",
       "      <th>4</th>\n",
       "      <td>2022-07-15</td>\n",
       "      <td>thepiratebay.gg</td>\n",
       "      <td>Минкомсвязь</td>\n",
       "      <td>0</td>\n",
       "      <td>2022</td>\n",
       "      <td>7</td>\n",
       "    </tr>\n",
       "    <tr>\n",
       "      <th>...</th>\n",
       "      <td>...</td>\n",
       "      <td>...</td>\n",
       "      <td>...</td>\n",
       "      <td>...</td>\n",
       "      <td>...</td>\n",
       "      <td>...</td>\n",
       "    </tr>\n",
       "    <tr>\n",
       "      <th>388</th>\n",
       "      <td>2022-01-02</td>\n",
       "      <td>vsecasino12.com</td>\n",
       "      <td>ФНС</td>\n",
       "      <td>0</td>\n",
       "      <td>2022</td>\n",
       "      <td>1</td>\n",
       "    </tr>\n",
       "    <tr>\n",
       "      <th>389</th>\n",
       "      <td>2022-01-02</td>\n",
       "      <td>levos-winning.xyz</td>\n",
       "      <td>ФНС</td>\n",
       "      <td>0</td>\n",
       "      <td>2022</td>\n",
       "      <td>1</td>\n",
       "    </tr>\n",
       "    <tr>\n",
       "      <th>390</th>\n",
       "      <td>2022-01-02</td>\n",
       "      <td>jocazzina-men.top</td>\n",
       "      <td>ФНС</td>\n",
       "      <td>0</td>\n",
       "      <td>2022</td>\n",
       "      <td>1</td>\n",
       "    </tr>\n",
       "    <tr>\n",
       "      <th>391</th>\n",
       "      <td>2022-01-02</td>\n",
       "      <td>www.1xbetbookie.top</td>\n",
       "      <td>ФНС</td>\n",
       "      <td>0</td>\n",
       "      <td>2022</td>\n",
       "      <td>1</td>\n",
       "    </tr>\n",
       "    <tr>\n",
       "      <th>392</th>\n",
       "      <td>2022-01-02</td>\n",
       "      <td>pin-up-kazino-siteofficial.win</td>\n",
       "      <td>ФНС</td>\n",
       "      <td>0</td>\n",
       "      <td>2022</td>\n",
       "      <td>1</td>\n",
       "    </tr>\n",
       "  </tbody>\n",
       "</table>\n",
       "<p>124893 rows × 6 columns</p>\n",
       "</div>"
      ],
      "text/plain": [
       "          date                            site     who_blocked  \\\n",
       "0   2022-07-15            piratebayproxy.autos     Минкомсвязь   \n",
       "1   2022-07-15                     plan-a.guru  Генпрокуратура   \n",
       "2   2022-07-15                nu15.kinovod.cam     Минкомсвязь   \n",
       "3   2022-07-15                  mega-pesni.one     Минкомсвязь   \n",
       "4   2022-07-15                 thepiratebay.gg     Минкомсвязь   \n",
       "..         ...                             ...             ...   \n",
       "388 2022-01-02                 vsecasino12.com             ФНС   \n",
       "389 2022-01-02               levos-winning.xyz             ФНС   \n",
       "390 2022-01-02               jocazzina-men.top             ФНС   \n",
       "391 2022-01-02             www.1xbetbookie.top             ФНС   \n",
       "392 2022-01-02  pin-up-kazino-siteofficial.win             ФНС   \n",
       "\n",
       "     count_of_blocked_domains  year  month  \n",
       "0                           0  2022      7  \n",
       "1                           0  2022      7  \n",
       "2                           0  2022      7  \n",
       "3                           0  2022      7  \n",
       "4                           0  2022      7  \n",
       "..                        ...   ...    ...  \n",
       "388                         0  2022      1  \n",
       "389                         0  2022      1  \n",
       "390                         0  2022      1  \n",
       "391                         0  2022      1  \n",
       "392                         0  2022      1  \n",
       "\n",
       "[124893 rows x 6 columns]"
      ]
     },
     "execution_count": 6,
     "metadata": {},
     "output_type": "execute_result"
    }
   ],
   "source": [
    "data[data.year == 2022]"
   ]
  },
  {
   "cell_type": "code",
   "execution_count": null,
   "id": "534cd253",
   "metadata": {},
   "outputs": [],
   "source": []
  },
  {
   "cell_type": "markdown",
   "id": "edda0487",
   "metadata": {},
   "source": [
    "Насколько весна 2022 года нетипичная видно в блокировках по месяцам за все годы. За обычно блокировали не более 10 тысяч сайтов. В 2022 году цифра заблокированных сайтов не опускалась ниже 15 тысяч. А в марте и вовсе был месячный максимум за всё время ~27000 заблокированных сайтов."
   ]
  },
  {
   "cell_type": "code",
   "execution_count": 7,
   "id": "e69a77ca",
   "metadata": {},
   "outputs": [],
   "source": [
    "temp = data[(data.year >= 2018)].groupby(['year', 'month']).size().reset_index().sort_values(by=['year', 'month'], ascending=True) #  & (data.month <= 6) & (data.who_blocked == 'Генпрокуратура')\n",
    "temp.columns = ['year', 'month', 'count'] "
   ]
  },
  {
   "cell_type": "code",
   "execution_count": 8,
   "id": "fd61f756",
   "metadata": {},
   "outputs": [
    {
     "data": {
      "image/png": "[encoded data removed]",
      "text/plain": [
       "<Figure size 864x504 with 1 Axes>"
      ]
     },
     "metadata": {},
     "output_type": "display_data"
    }
   ],
   "source": [
    "sns.lineplot(\n",
    "    data=temp[temp.year!=2022],\n",
    "    x='month',\n",
    "    y='count',\n",
    "    hue='year',\n",
    "    palette=\"Paired\",\n",
    ")\n",
    "\n",
    "sns.lineplot(\n",
    "    data=temp[temp.year==2022],\n",
    "    x='month',\n",
    "    y='count',\n",
    "    linewidth=5.5,\n",
    "    hue='year',\n",
    "    palette=\"dark:salmon_r\",\n",
    ").set_title('Блокировки сайтов c 2012 по 2022 год по месяцам', fontsize=20);\n",
    "\n",
    "plt.xticks(range(1, 13), ['янв', 'фев', 'март', 'апр', 'май', 'июнь', \"июль\", 'авг', \"сен\", \"окт\" , \"ноя\", \"дек\"])\n",
    "plt.show()"
   ]
  },
  {
   "cell_type": "code",
   "execution_count": 9,
   "id": "151a0c0f",
   "metadata": {},
   "outputs": [
    {
     "data": {
      "image/png": "[encoded data removed]",
      "text/plain": [
       "<Figure size 864x504 with 1 Axes>"
      ]
     },
     "metadata": {},
     "output_type": "display_data"
    }
   ],
   "source": [
    "# Тот же график, но с отрезком за 6 месяцев\n",
    "sns.lineplot(\n",
    "    data=temp[(temp.month <= 6)],\n",
    "    x='month',\n",
    "    y='count',\n",
    "    hue='year',\n",
    "    palette=\"Paired\"\n",
    ")\n",
    "\n",
    "plt.xticks(range(1, 7), ['янв', 'фев', 'март', 'апр', 'май', 'июнь'])\n",
    "plt.show()"
   ]
  },
  {
   "cell_type": "code",
   "execution_count": 10,
   "id": "1ce2bf23",
   "metadata": {},
   "outputs": [
    {
     "data": {
      "image/png": "[encoded data removed]",
      "text/plain": [
       "<Figure size 864x504 with 1 Axes>"
      ]
     },
     "metadata": {},
     "output_type": "display_data"
    }
   ],
   "source": [
    "sns.countplot(\n",
    "    data=data[data.year == 2022],\n",
    "    x='month'\n",
    ").set_title('Блокировки сайтов по месяцам в 2022 году', fontsize=20);"
   ]
  },
  {
   "cell_type": "markdown",
   "id": "3d749c96",
   "metadata": {},
   "source": [
    "На пике в апреле этого года  в реестр внесли 22 991 сайтов."
   ]
  },
  {
   "cell_type": "code",
   "execution_count": 11,
   "id": "ace232d6",
   "metadata": {},
   "outputs": [
    {
     "data": {
      "text/plain": [
       "month\n",
       "1    19229\n",
       "2    16436\n",
       "3    22991\n",
       "4    20263\n",
       "5    18008\n",
       "6    19286\n",
       "7     8680\n",
       "dtype: int64"
      ]
     },
     "execution_count": 11,
     "metadata": {},
     "output_type": "execute_result"
    }
   ],
   "source": [
    "data[data.year == 2022].groupby('month').size()"
   ]
  },
  {
   "cell_type": "code",
   "execution_count": 17,
   "id": "844e82e4",
   "metadata": {},
   "outputs": [
    {
     "data": {
      "text/plain": [
       "month\n",
       "1      8912\n",
       "2      9305\n",
       "3      2424\n",
       "4     10991\n",
       "5     12400\n",
       "6     14609\n",
       "7     15377\n",
       "8     16105\n",
       "9     17745\n",
       "10    15837\n",
       "11    14875\n",
       "12    20668\n",
       "dtype: int64"
      ]
     },
     "execution_count": 17,
     "metadata": {},
     "output_type": "execute_result"
    }
   ],
   "source": [
    "data[data.year == 2021].groupby('month').size()"
   ]
  },
  {
   "cell_type": "markdown",
   "id": "b439bb63",
   "metadata": {},
   "source": [
    "Всего за этот год заблокировано 124 893 сайта"
   ]
  },
  {
   "cell_type": "code",
   "execution_count": 12,
   "id": "8e838a13",
   "metadata": {},
   "outputs": [
    {
     "data": {
      "text/plain": [
       "124893"
      ]
     },
     "execution_count": 12,
     "metadata": {},
     "output_type": "execute_result"
    }
   ],
   "source": [
    "data[data.year == 2022].groupby('month').size().sum()"
   ]
  },
  {
   "cell_type": "markdown",
   "id": "8c19d873",
   "metadata": {},
   "source": [
    "В среднем в месяц в России блокируют 17 841 сайтов"
   ]
  },
  {
   "cell_type": "code",
   "execution_count": 13,
   "id": "3b656add",
   "metadata": {},
   "outputs": [
    {
     "data": {
      "text/plain": [
       "17841.85714285714"
      ]
     },
     "execution_count": 13,
     "metadata": {},
     "output_type": "execute_result"
    }
   ],
   "source": [
    "data[data.year == 2022].groupby('month').size().mean()"
   ]
  },
  {
   "cell_type": "markdown",
   "id": "65ba68ac",
   "metadata": {},
   "source": [
    "Или ~594 сайта в день"
   ]
  },
  {
   "cell_type": "code",
   "execution_count": 14,
   "id": "c27c68cf",
   "metadata": {},
   "outputs": [
    {
     "data": {
      "text/plain": [
       "594.0"
      ]
     },
     "execution_count": 14,
     "metadata": {},
     "output_type": "execute_result"
    }
   ],
   "source": [
    "data[data.year == 2022].groupby('month').size().mean() // 30"
   ]
  },
  {
   "cell_type": "code",
   "execution_count": null,
   "id": "5600c7b3",
   "metadata": {},
   "outputs": [],
   "source": []
  },
  {
   "cell_type": "markdown",
   "id": "48a873f3",
   "metadata": {},
   "source": [
    "В реестре также указано, кто инициировал блокировку того или иного сайта. Можно посчитать по чьей инициативе заблокировали больше всего сайтов. Но тут 2022 год выглядит примерно также как и прошлые годы. "
   ]
  },
  {
   "cell_type": "code",
   "execution_count": 13,
   "id": "0130ba1a",
   "metadata": {},
   "outputs": [
    {
     "data": {
      "text/html": [
       "<div>\n",
       "<style scoped>\n",
       "    .dataframe tbody tr th:only-of-type {\n",
       "        vertical-align: middle;\n",
       "    }\n",
       "\n",
       "    .dataframe tbody tr th {\n",
       "        vertical-align: top;\n",
       "    }\n",
       "\n",
       "    .dataframe thead th {\n",
       "        text-align: right;\n",
       "    }\n",
       "</style>\n",
       "<table border=\"1\" class=\"dataframe\">\n",
       "  <thead>\n",
       "    <tr style=\"text-align: right;\">\n",
       "      <th></th>\n",
       "      <th>who_blocked</th>\n",
       "      <th>size</th>\n",
       "    </tr>\n",
       "  </thead>\n",
       "  <tbody>\n",
       "    <tr>\n",
       "      <th>1499</th>\n",
       "      <td>ФНС</td>\n",
       "      <td>39735</td>\n",
       "    </tr>\n",
       "    <tr>\n",
       "      <th>869</th>\n",
       "      <td>Мосгорсуд</td>\n",
       "      <td>13667</td>\n",
       "    </tr>\n",
       "    <tr>\n",
       "      <th>247</th>\n",
       "      <td>Генпрокуратура</td>\n",
       "      <td>12362</td>\n",
       "    </tr>\n",
       "    <tr>\n",
       "      <th>845</th>\n",
       "      <td>Минкомсвязь</td>\n",
       "      <td>6012</td>\n",
       "    </tr>\n",
       "    <tr>\n",
       "      <th>1208</th>\n",
       "      <td>Роскомнадзор</td>\n",
       "      <td>5523</td>\n",
       "    </tr>\n",
       "    <tr>\n",
       "      <th>792</th>\n",
       "      <td>МВД</td>\n",
       "      <td>4913</td>\n",
       "    </tr>\n",
       "    <tr>\n",
       "      <th>1207</th>\n",
       "      <td>Росздравнадзор</td>\n",
       "      <td>3591</td>\n",
       "    </tr>\n",
       "    <tr>\n",
       "      <th>396</th>\n",
       "      <td>Зареченский районный суд г.Тулы - Тульская обл...</td>\n",
       "      <td>3256</td>\n",
       "    </tr>\n",
       "    <tr>\n",
       "      <th>1193</th>\n",
       "      <td>РАР</td>\n",
       "      <td>1609</td>\n",
       "    </tr>\n",
       "    <tr>\n",
       "      <th>667</th>\n",
       "      <td>Куйбышевский районный суд г. Омска - Омская об...</td>\n",
       "      <td>520</td>\n",
       "    </tr>\n",
       "  </tbody>\n",
       "</table>\n",
       "</div>"
      ],
      "text/plain": [
       "                                            who_blocked   size\n",
       "1499                                                ФНС  39735\n",
       "869                                           Мосгорсуд  13667\n",
       "247                                      Генпрокуратура  12362\n",
       "845                                         Минкомсвязь   6012\n",
       "1208                                       Роскомнадзор   5523\n",
       "792                                                 МВД   4913\n",
       "1207                                     Росздравнадзор   3591\n",
       "396   Зареченский районный суд г.Тулы - Тульская обл...   3256\n",
       "1193                                                РАР   1609\n",
       "667   Куйбышевский районный суд г. Омска - Омская об...    520"
      ]
     },
     "execution_count": 13,
     "metadata": {},
     "output_type": "execute_result"
    }
   ],
   "source": [
    "# кол-во блокировок по ведомствам за 2022 год\n",
    "data[data.year == 2022].groupby('who_blocked', as_index=False).size().sort_values(by='size', ascending=False).head(10)"
   ]
  },
  {
   "cell_type": "code",
   "execution_count": 14,
   "id": "dc1023ae",
   "metadata": {},
   "outputs": [
    {
     "data": {
      "text/html": [
       "<div>\n",
       "<style scoped>\n",
       "    .dataframe tbody tr th:only-of-type {\n",
       "        vertical-align: middle;\n",
       "    }\n",
       "\n",
       "    .dataframe tbody tr th {\n",
       "        vertical-align: top;\n",
       "    }\n",
       "\n",
       "    .dataframe thead th {\n",
       "        text-align: right;\n",
       "    }\n",
       "</style>\n",
       "<table border=\"1\" class=\"dataframe\">\n",
       "  <thead>\n",
       "    <tr style=\"text-align: right;\">\n",
       "      <th></th>\n",
       "      <th>who_blocked</th>\n",
       "      <th>size</th>\n",
       "    </tr>\n",
       "  </thead>\n",
       "  <tbody>\n",
       "    <tr>\n",
       "      <th>1895</th>\n",
       "      <td>ФНС</td>\n",
       "      <td>220426</td>\n",
       "    </tr>\n",
       "    <tr>\n",
       "      <th>326</th>\n",
       "      <td>Генпрокуратура</td>\n",
       "      <td>42558</td>\n",
       "    </tr>\n",
       "    <tr>\n",
       "      <th>1048</th>\n",
       "      <td>Минкомсвязь</td>\n",
       "      <td>32000</td>\n",
       "    </tr>\n",
       "    <tr>\n",
       "      <th>2113</th>\n",
       "      <td>суд</td>\n",
       "      <td>25519</td>\n",
       "    </tr>\n",
       "    <tr>\n",
       "      <th>1076</th>\n",
       "      <td>Мосгорсуд</td>\n",
       "      <td>23262</td>\n",
       "    </tr>\n",
       "    <tr>\n",
       "      <th>1517</th>\n",
       "      <td>Роскомнадзор</td>\n",
       "      <td>18679</td>\n",
       "    </tr>\n",
       "    <tr>\n",
       "      <th>993</th>\n",
       "      <td>МВД</td>\n",
       "      <td>14471</td>\n",
       "    </tr>\n",
       "    <tr>\n",
       "      <th>1516</th>\n",
       "      <td>Росздравнадзор</td>\n",
       "      <td>4917</td>\n",
       "    </tr>\n",
       "    <tr>\n",
       "      <th>1495</th>\n",
       "      <td>РАР</td>\n",
       "      <td>2093</td>\n",
       "    </tr>\n",
       "    <tr>\n",
       "      <th>1748</th>\n",
       "      <td>Таганский районный суд - Москва</td>\n",
       "      <td>1070</td>\n",
       "    </tr>\n",
       "  </tbody>\n",
       "</table>\n",
       "</div>"
      ],
      "text/plain": [
       "                          who_blocked    size\n",
       "1895                              ФНС  220426\n",
       "326                    Генпрокуратура   42558\n",
       "1048                      Минкомсвязь   32000\n",
       "2113                              суд   25519\n",
       "1076                        Мосгорсуд   23262\n",
       "1517                     Роскомнадзор   18679\n",
       "993                               МВД   14471\n",
       "1516                   Росздравнадзор    4917\n",
       "1495                              РАР    2093\n",
       "1748  Таганский районный суд - Москва    1070"
      ]
     },
     "execution_count": 14,
     "metadata": {},
     "output_type": "execute_result"
    }
   ],
   "source": [
    "# кол-во блокировок по ведомствам с 2012 по 2021 годы\n",
    "data[data.year != 2022].groupby('who_blocked', as_index=False).size().sort_values(by='size', ascending=False).head(10)"
   ]
  },
  {
   "cell_type": "code",
   "execution_count": 53,
   "id": "53d1543e",
   "metadata": {},
   "outputs": [],
   "source": [
    "# doubles_data = data[data.year == 2022].groupby('site').size().sort_values(ascending=False).reset_index()\n",
    "# doubles_data.columns.values[1] = 'count_of_blocks'\n",
    "\n",
    "# doubles_data[doubles_data.site.str.contains('mediazona')]"
   ]
  },
  {
   "cell_type": "markdown",
   "id": "b0463d33",
   "metadata": {},
   "source": [
    "**Вопросы к экспертам РКН:**\n",
    "* Чем блокировки в 2022 году отличаются от блокировок в прошлом?\n",
    "* В реестре десятки тысяч разных сайтов. Если не учитывать политические сайты и медиа, то что это сайты?\n",
    "    * Какой примерно процент в реестре это независимые медиа, сайты с критикой Путина и т.д.?\n",
    "    * Многие сайты создают множество зеркал. Можно ли подсчитать сколько их уже в реестре? Можно ли ими объяснить скачок блокировок в этом году?\n",
    "    * Как в реестре можно  отличить блокировку по причине военной цензуры от других причин?\n",
    "    * Сколько уже приблизительно заблокировано сайтов из-за военной цензуры?\n",
    "* Чем отличаются блокировки от РКН, судов, ФНС, генпрокуратуры и т.д?\n",
    "* Скачок блокировок был и в прошлом году весной. Что тогда произошло? Это блокировки связанные с протестами за Навального? \n",
    "\n",
    "**Материалы о блокировках:**\n",
    "\n",
    "- [Военной цензуре подверглось более 3000 сайтов](https://roskomsvoboda.org/post/voennaya-cenzura-3000-saytov/)\n",
    "- [Военной цензурой накрыло более 5000 сайтов](https://roskomsvoboda.org/post/voen-cenzura-5300-saytov/)\n",
    "- [Военной цензуре подверглось более 1500 сайтов](https://roskomsvoboda.org/post/ban-1500-ssylok/)\n",
    "- [«Репортеры без границ»: в России введена военная цензура](https://roskomsvoboda.org/post/rf-155-rsf-rating/)\n",
    "- [Индекс свободы слова от RSE](https://rsf.org/en/index)\n",
    "    - [Описание методологии](https://rsf.org/en/index-methodologie-2010?year=2010&data_type=general)\n"
   ]
  },
  {
   "cell_type": "code",
   "execution_count": null,
   "id": "906e2924",
   "metadata": {},
   "outputs": [],
   "source": []
  },
  {
   "cell_type": "markdown",
   "id": "e8b2fa98",
   "metadata": {},
   "source": [
    "**RSF reports**"
   ]
  },
  {
   "cell_type": "code",
   "execution_count": 38,
   "id": "8c59b0de",
   "metadata": {},
   "outputs": [],
   "source": [
    "import requests\n",
    "import io\n",
    "from tqdm.notebook import tqdm"
   ]
  },
  {
   "cell_type": "code",
   "execution_count": 80,
   "id": "28487f21",
   "metadata": {},
   "outputs": [
    {
     "data": {
      "application/vnd.jupyter.widget-view+json": {
       "model_id": "6ba6ccd5e1084bb59dcebf84f0623a85",
       "version_major": 2,
       "version_minor": 0
      },
      "text/plain": [
       "  0%|          | 0/21 [00:00<?, ?it/s]"
      ]
     },
     "metadata": {},
     "output_type": "display_data"
    },
    {
     "name": "stdout",
     "output_type": "stream",
     "text": [
      "Error tokenizing data. C error: Expected 1 fields in line 7, saw 5\n",
      " 2011\n"
     ]
    }
   ],
   "source": [
    "df = None\n",
    "for y in tqdm(range(2002, 2023)):\n",
    "    req = requests.get(f'https://rsf.org/sites/default/files/import_classement/{y}.csv').content\n",
    "    if df is None:\n",
    "        df = pd.read_csv(io.StringIO(req.decode('utf-8')), delimiter=';')\n",
    "        continue\n",
    "    try:\n",
    "        if y == 2022:\n",
    "            df_2022 = pd.read_csv(io.StringIO(req.decode('utf-8')), delimiter=';', )\n",
    "        else:\n",
    "            temp_df = pd.read_csv(io.StringIO(req.decode('utf-8')), delimiter=';')\n",
    "            df = pd.concat([df, temp_df])\n",
    "    except Exception as e:\n",
    "        print(e, y)\n",
    "\n",
    "df_2022.to_csv('index_rsf_2022.csv')\n",
    "df.to_csv('index_rsf_2002-2021.csv')"
   ]
  },
  {
   "cell_type": "code",
   "execution_count": null,
   "id": "1918ebe5",
   "metadata": {},
   "outputs": [],
   "source": []
  },
  {
   "cell_type": "code",
   "execution_count": 121,
   "id": "36be1853",
   "metadata": {},
   "outputs": [],
   "source": [
    "df_2022['year'] = 2022\n",
    "df_2022 = df_2022.filter(['ISO', 'Score', 'Rank', 'year'])\n",
    "df_2022.columns = df_2022.columns.str.lower()"
   ]
  },
  {
   "cell_type": "code",
   "execution_count": 122,
   "id": "edf0395a",
   "metadata": {},
   "outputs": [],
   "source": [
    "df = df.filter(df.columns[:4])\n",
    "df.rename(columns = {'Year (N)':'year', 'ISO':'iso',\n",
    "                              'Rank N':'rank', 'Score N':'score'}, inplace = True)"
   ]
  },
  {
   "cell_type": "code",
   "execution_count": 123,
   "id": "5c437981",
   "metadata": {},
   "outputs": [],
   "source": [
    "df_full = pd.concat([df, df_2022])"
   ]
  },
  {
   "cell_type": "code",
   "execution_count": 134,
   "id": "f39a6c97",
   "metadata": {},
   "outputs": [],
   "source": [
    "df_rus = df_full[df_full.iso == 'RUS'].reset_index()\n",
    "df_rus.drop('index', axis=1, inplace=True)\n",
    "df_rus.loc[9, 'year'] = 2011\n",
    "df_rus['year'] = df_rus['year'].astype(int)\n",
    "df_rus['rank'] = df_rus['rank'].astype(int)\n",
    "df_rus['score'] = df_rus['score'].str.replace(',', '.').astype(float)"
   ]
  },
  {
   "cell_type": "code",
   "execution_count": 135,
   "id": "40badf20",
   "metadata": {},
   "outputs": [],
   "source": [
    "# значения из csv выгрузки за 2022 год не совпадают с данными на сайте\n",
    "df_rus.loc[19, 'rank'] = 155\n",
    "df_rus.loc[19, 'score'] = 38.82"
   ]
  },
  {
   "cell_type": "code",
   "execution_count": 136,
   "id": "413fa802",
   "metadata": {},
   "outputs": [
    {
     "data": {
      "text/html": [
       "<div>\n",
       "<style scoped>\n",
       "    .dataframe tbody tr th:only-of-type {\n",
       "        vertical-align: middle;\n",
       "    }\n",
       "\n",
       "    .dataframe tbody tr th {\n",
       "        vertical-align: top;\n",
       "    }\n",
       "\n",
       "    .dataframe thead th {\n",
       "        text-align: right;\n",
       "    }\n",
       "</style>\n",
       "<table border=\"1\" class=\"dataframe\">\n",
       "  <thead>\n",
       "    <tr style=\"text-align: right;\">\n",
       "      <th></th>\n",
       "      <th>year</th>\n",
       "      <th>iso</th>\n",
       "      <th>rank</th>\n",
       "      <th>score</th>\n",
       "    </tr>\n",
       "  </thead>\n",
       "  <tbody>\n",
       "    <tr>\n",
       "      <th>0</th>\n",
       "      <td>2002</td>\n",
       "      <td>RUS</td>\n",
       "      <td>121</td>\n",
       "      <td>48.000</td>\n",
       "    </tr>\n",
       "    <tr>\n",
       "      <th>1</th>\n",
       "      <td>2003</td>\n",
       "      <td>RUS</td>\n",
       "      <td>148</td>\n",
       "      <td>49.500</td>\n",
       "    </tr>\n",
       "    <tr>\n",
       "      <th>2</th>\n",
       "      <td>2004</td>\n",
       "      <td>RUS</td>\n",
       "      <td>140</td>\n",
       "      <td>51.380</td>\n",
       "    </tr>\n",
       "    <tr>\n",
       "      <th>3</th>\n",
       "      <td>2005</td>\n",
       "      <td>RUS</td>\n",
       "      <td>138</td>\n",
       "      <td>48.670</td>\n",
       "    </tr>\n",
       "    <tr>\n",
       "      <th>4</th>\n",
       "      <td>2006</td>\n",
       "      <td>RUS</td>\n",
       "      <td>147</td>\n",
       "      <td>52.500</td>\n",
       "    </tr>\n",
       "    <tr>\n",
       "      <th>5</th>\n",
       "      <td>2007</td>\n",
       "      <td>RUS</td>\n",
       "      <td>144</td>\n",
       "      <td>56.900</td>\n",
       "    </tr>\n",
       "    <tr>\n",
       "      <th>6</th>\n",
       "      <td>2008</td>\n",
       "      <td>RUS</td>\n",
       "      <td>141</td>\n",
       "      <td>47.500</td>\n",
       "    </tr>\n",
       "    <tr>\n",
       "      <th>7</th>\n",
       "      <td>2009</td>\n",
       "      <td>RUS</td>\n",
       "      <td>153</td>\n",
       "      <td>60.875</td>\n",
       "    </tr>\n",
       "    <tr>\n",
       "      <th>8</th>\n",
       "      <td>2010</td>\n",
       "      <td>RUS</td>\n",
       "      <td>140</td>\n",
       "      <td>49.900</td>\n",
       "    </tr>\n",
       "    <tr>\n",
       "      <th>9</th>\n",
       "      <td>2011</td>\n",
       "      <td>RUS</td>\n",
       "      <td>142</td>\n",
       "      <td>66.000</td>\n",
       "    </tr>\n",
       "    <tr>\n",
       "      <th>10</th>\n",
       "      <td>2013</td>\n",
       "      <td>RUS</td>\n",
       "      <td>148</td>\n",
       "      <td>56.580</td>\n",
       "    </tr>\n",
       "    <tr>\n",
       "      <th>11</th>\n",
       "      <td>2014</td>\n",
       "      <td>RUS</td>\n",
       "      <td>148</td>\n",
       "      <td>57.220</td>\n",
       "    </tr>\n",
       "    <tr>\n",
       "      <th>12</th>\n",
       "      <td>2015</td>\n",
       "      <td>RUS</td>\n",
       "      <td>152</td>\n",
       "      <td>55.030</td>\n",
       "    </tr>\n",
       "    <tr>\n",
       "      <th>13</th>\n",
       "      <td>2016</td>\n",
       "      <td>RUS</td>\n",
       "      <td>148</td>\n",
       "      <td>50.970</td>\n",
       "    </tr>\n",
       "    <tr>\n",
       "      <th>14</th>\n",
       "      <td>2017</td>\n",
       "      <td>RUS</td>\n",
       "      <td>148</td>\n",
       "      <td>50.550</td>\n",
       "    </tr>\n",
       "    <tr>\n",
       "      <th>15</th>\n",
       "      <td>2018</td>\n",
       "      <td>RUS</td>\n",
       "      <td>148</td>\n",
       "      <td>50.040</td>\n",
       "    </tr>\n",
       "    <tr>\n",
       "      <th>16</th>\n",
       "      <td>2019</td>\n",
       "      <td>RUS</td>\n",
       "      <td>149</td>\n",
       "      <td>49.690</td>\n",
       "    </tr>\n",
       "    <tr>\n",
       "      <th>17</th>\n",
       "      <td>2020</td>\n",
       "      <td>RUS</td>\n",
       "      <td>149</td>\n",
       "      <td>51.080</td>\n",
       "    </tr>\n",
       "    <tr>\n",
       "      <th>18</th>\n",
       "      <td>2021</td>\n",
       "      <td>RUS</td>\n",
       "      <td>150</td>\n",
       "      <td>51.290</td>\n",
       "    </tr>\n",
       "    <tr>\n",
       "      <th>19</th>\n",
       "      <td>2022</td>\n",
       "      <td>RUS</td>\n",
       "      <td>155</td>\n",
       "      <td>38.820</td>\n",
       "    </tr>\n",
       "  </tbody>\n",
       "</table>\n",
       "</div>"
      ],
      "text/plain": [
       "    year  iso  rank   score\n",
       "0   2002  RUS   121  48.000\n",
       "1   2003  RUS   148  49.500\n",
       "2   2004  RUS   140  51.380\n",
       "3   2005  RUS   138  48.670\n",
       "4   2006  RUS   147  52.500\n",
       "5   2007  RUS   144  56.900\n",
       "6   2008  RUS   141  47.500\n",
       "7   2009  RUS   153  60.875\n",
       "8   2010  RUS   140  49.900\n",
       "9   2011  RUS   142  66.000\n",
       "10  2013  RUS   148  56.580\n",
       "11  2014  RUS   148  57.220\n",
       "12  2015  RUS   152  55.030\n",
       "13  2016  RUS   148  50.970\n",
       "14  2017  RUS   148  50.550\n",
       "15  2018  RUS   148  50.040\n",
       "16  2019  RUS   149  49.690\n",
       "17  2020  RUS   149  51.080\n",
       "18  2021  RUS   150  51.290\n",
       "19  2022  RUS   155  38.820"
      ]
     },
     "execution_count": 136,
     "metadata": {},
     "output_type": "execute_result"
    }
   ],
   "source": [
    "df_rus"
   ]
  },
  {
   "cell_type": "code",
   "execution_count": 137,
   "id": "c75c22dc",
   "metadata": {},
   "outputs": [
    {
     "data": {
      "image/png": "[encoded data removed]",
      "text/plain": [
       "<Figure size 864x504 with 1 Axes>"
      ]
     },
     "metadata": {},
     "output_type": "display_data"
    }
   ],
   "source": [
    "sns.lineplot(\n",
    "    data=df_rus,\n",
    "    x='year',\n",
    "    y='rank'\n",
    ")\n",
    "plt.suptitle(\"Как менялась место России в рейтинге стран по индексу свободы прессы\", fontsize=15)\n",
    "plt.title('Сейчас Россия занимает 155 место из 180', fontsize=14)\n",
    "plt.show()"
   ]
  },
  {
   "cell_type": "code",
   "execution_count": 138,
   "id": "df1a4469",
   "metadata": {},
   "outputs": [
    {
     "data": {
      "image/png": "[encoded data removed]",
      "text/plain": [
       "<Figure size 864x504 with 1 Axes>"
      ]
     },
     "metadata": {},
     "output_type": "display_data"
    }
   ],
   "source": [
    "sns.lineplot(\n",
    "    data=df_rus,\n",
    "    x='year',\n",
    "    y='score'\n",
    ")\n",
    "\n",
    "plt.title('Индекс свободы прессы в России', fontsize=15)\n",
    "plt.show()"
   ]
  },
  {
   "cell_type": "code",
   "execution_count": null,
   "id": "293b35e0",
   "metadata": {},
   "outputs": [],
   "source": []
  },
  {
   "cell_type": "markdown",
   "id": "68e8d49b",
   "metadata": {},
   "source": [
    "**Преследование журналистов**"
   ]
  },
  {
   "cell_type": "markdown",
   "id": "81df9f72",
   "metadata": {},
   "source": [
    " CPJ's annual census is a snapshot of those imprisoned at midnight on December 1 each year. It does not include those jailed and released throughout the year. "
   ]
  },
  {
   "cell_type": "code",
   "execution_count": 79,
   "id": "f1679284",
   "metadata": {},
   "outputs": [
    {
     "data": {
      "application/vnd.jupyter.widget-view+json": {
       "model_id": "24b2d67db1ed44cb9a4e3ed97a2c7b05",
       "version_major": 2,
       "version_minor": 0
      },
      "text/plain": [
       "  0%|          | 0/22 [00:00<?, ?it/s]"
      ]
     },
     "metadata": {},
     "output_type": "display_data"
    }
   ],
   "source": [
    "df = pd.DataFrame(columns=['organizations', 'fullName', 'location', 'status', 'typeOfDeath', 'charges', 'startDisplay', 'mtpage', 'country', 'type', 'motiveConfirmed', 'year_of_inprisoned'])\n",
    "for year in tqdm(range(2000, 2022)):\n",
    "        url = f'https://datamanager.cpj.org/api/datamanager/reports/entries?distinct(personId)&includes=organizations,fullName,location,status,typeOfDeath,charges,startDisplay,mtpage,country,type,motiveConfirmed&sort=fullName&pageNum=1&pageSize=20&in(status,%27Imprisoned%27)&in(cc_fips,%27RS%27)&eq(year,{year})'\n",
    "        data = requests.get(url).json()\n",
    "        for val in data['data']:\n",
    "            new_rows = pd.Series(val).to_frame().T\n",
    "            new_rows['year_of_inprisoned'] = year\n",
    "            df = pd.concat([new_rows, df], ignore_index=True)"
   ]
  },
  {
   "cell_type": "code",
   "execution_count": 86,
   "id": "ae84a635",
   "metadata": {
    "scrolled": false
   },
   "outputs": [
    {
     "data": {
      "text/html": [
       "<div>\n",
       "<style scoped>\n",
       "    .dataframe tbody tr th:only-of-type {\n",
       "        vertical-align: middle;\n",
       "    }\n",
       "\n",
       "    .dataframe tbody tr th {\n",
       "        vertical-align: top;\n",
       "    }\n",
       "\n",
       "    .dataframe thead th {\n",
       "        text-align: right;\n",
       "    }\n",
       "</style>\n",
       "<table border=\"1\" class=\"dataframe\">\n",
       "  <thead>\n",
       "    <tr style=\"text-align: right;\">\n",
       "      <th></th>\n",
       "      <th>organizations</th>\n",
       "      <th>fullName</th>\n",
       "      <th>location</th>\n",
       "      <th>status</th>\n",
       "      <th>typeOfDeath</th>\n",
       "      <th>charges</th>\n",
       "      <th>startDisplay</th>\n",
       "      <th>mtpage</th>\n",
       "      <th>country</th>\n",
       "      <th>type</th>\n",
       "      <th>motiveConfirmed</th>\n",
       "      <th>year_of_inprisoned</th>\n",
       "    </tr>\n",
       "  </thead>\n",
       "  <tbody>\n",
       "    <tr>\n",
       "      <th>0</th>\n",
       "      <td>Rosderzhava, Ya.N.</td>\n",
       "      <td>Yan Katelevskiy</td>\n",
       "      <td>Moscow</td>\n",
       "      <td>Imprisoned</td>\n",
       "      <td>None</td>\n",
       "      <td>Retaliatory</td>\n",
       "      <td>July 29, 2020</td>\n",
       "      <td>https://cpj.org/data/people/yan-katelevskiy/</td>\n",
       "      <td>Russia</td>\n",
       "      <td>Journalist</td>\n",
       "      <td>None</td>\n",
       "      <td>2021</td>\n",
       "    </tr>\n",
       "    <tr>\n",
       "      <th>1</th>\n",
       "      <td>Radio Free Europe/Radio Liberty</td>\n",
       "      <td>Vladislav Yesypenko</td>\n",
       "      <td>Simferopol, Crimea</td>\n",
       "      <td>Imprisoned</td>\n",
       "      <td>None</td>\n",
       "      <td>Retaliatory</td>\n",
       "      <td>In Occupied Crimea on March 10, 2021</td>\n",
       "      <td>https://cpj.org/data/people/vladislav-yesypenko/</td>\n",
       "      <td>Russia</td>\n",
       "      <td>Journalist</td>\n",
       "      <td>None</td>\n",
       "      <td>2021</td>\n",
       "    </tr>\n",
       "    <tr>\n",
       "      <th>2</th>\n",
       "      <td>DOXA</td>\n",
       "      <td>Vladimir Metelkin</td>\n",
       "      <td>Moscow</td>\n",
       "      <td>Imprisoned</td>\n",
       "      <td>None</td>\n",
       "      <td>Anti-state</td>\n",
       "      <td>April 14, 2021</td>\n",
       "      <td>https://cpj.org/data/people/vladimir-metelkin/</td>\n",
       "      <td>Russia</td>\n",
       "      <td>Journalist</td>\n",
       "      <td>None</td>\n",
       "      <td>2021</td>\n",
       "    </tr>\n",
       "    <tr>\n",
       "      <th>3</th>\n",
       "      <td>Freelance</td>\n",
       "      <td>Rustem Sheikhaliev</td>\n",
       "      <td>Rostov-on-Don</td>\n",
       "      <td>Imprisoned</td>\n",
       "      <td>None</td>\n",
       "      <td>Anti-state</td>\n",
       "      <td>In Occupied Crimea on March 27, 2019</td>\n",
       "      <td>https://cpj.org/data/people/rustem-sheikhaliev/</td>\n",
       "      <td>Russia</td>\n",
       "      <td>Journalist</td>\n",
       "      <td>None</td>\n",
       "      <td>2021</td>\n",
       "    </tr>\n",
       "    <tr>\n",
       "      <th>4</th>\n",
       "      <td>Grani</td>\n",
       "      <td>Remzi Bekirov</td>\n",
       "      <td>Rostov-on-Don</td>\n",
       "      <td>Imprisoned</td>\n",
       "      <td>None</td>\n",
       "      <td>Anti-state</td>\n",
       "      <td>In Occupied Crimea on March 27, 2019</td>\n",
       "      <td>https://cpj.org/data/people/remzi-bekirov/</td>\n",
       "      <td>Russia</td>\n",
       "      <td>Journalist</td>\n",
       "      <td>None</td>\n",
       "      <td>2021</td>\n",
       "    </tr>\n",
       "  </tbody>\n",
       "</table>\n",
       "</div>"
      ],
      "text/plain": [
       "                     organizations             fullName            location  \\\n",
       "0               Rosderzhava, Ya.N.      Yan Katelevskiy              Moscow   \n",
       "1  Radio Free Europe/Radio Liberty  Vladislav Yesypenko  Simferopol, Crimea   \n",
       "2                             DOXA    Vladimir Metelkin              Moscow   \n",
       "3                        Freelance   Rustem Sheikhaliev       Rostov-on-Don   \n",
       "4                            Grani        Remzi Bekirov       Rostov-on-Don   \n",
       "\n",
       "       status typeOfDeath      charges                          startDisplay  \\\n",
       "0  Imprisoned        None  Retaliatory                         July 29, 2020   \n",
       "1  Imprisoned        None  Retaliatory  In Occupied Crimea on March 10, 2021   \n",
       "2  Imprisoned        None   Anti-state                        April 14, 2021   \n",
       "3  Imprisoned        None   Anti-state  In Occupied Crimea on March 27, 2019   \n",
       "4  Imprisoned        None   Anti-state  In Occupied Crimea on March 27, 2019   \n",
       "\n",
       "                                             mtpage country        type  \\\n",
       "0      https://cpj.org/data/people/yan-katelevskiy/  Russia  Journalist   \n",
       "1  https://cpj.org/data/people/vladislav-yesypenko/  Russia  Journalist   \n",
       "2    https://cpj.org/data/people/vladimir-metelkin/  Russia  Journalist   \n",
       "3   https://cpj.org/data/people/rustem-sheikhaliev/  Russia  Journalist   \n",
       "4        https://cpj.org/data/people/remzi-bekirov/  Russia  Journalist   \n",
       "\n",
       "  motiveConfirmed year_of_inprisoned  \n",
       "0            None               2021  \n",
       "1            None               2021  \n",
       "2            None               2021  \n",
       "3            None               2021  \n",
       "4            None               2021  "
      ]
     },
     "execution_count": 86,
     "metadata": {},
     "output_type": "execute_result"
    }
   ],
   "source": [
    "df.head()"
   ]
  },
  {
   "cell_type": "markdown",
   "id": "5c89e8ab",
   "metadata": {},
   "source": [
    "Россия находится на восьмой строчке. На данным момент, согласно отчету CPJ, 14 работников СМИ лишены свободы. «Правительства полны решимости контролировать информацию и управлять ею, и они становятся все более наглыми в своих усилиях», — заявил исполнительный директор CPJ Джоэл Саймон. \n",
    "\n",
    "Он отметил, что «сажать журналистов за освещение событий — отличительная черта авторитарного режима». \n",
    "\n",
    "Источник: [Новая газета](https://novayagazeta.ru/articles/2021/12/09/komitet-po-zashchite-zhurnalistov-293-zhurnalista-po-vsemu-miru-ostaiutsia-v-zakliuchenii-za-svoiu-rabotu-eto-maksimum-za-vse-vremia-news)"
   ]
  },
  {
   "cell_type": "code",
   "execution_count": 87,
   "id": "6e104a72",
   "metadata": {
    "scrolled": false
   },
   "outputs": [],
   "source": [
    "df.to_csv('imprisoned_journalist_in_russia.csv', index=False)"
   ]
  },
  {
   "cell_type": "code",
   "execution_count": 88,
   "id": "60ced65f",
   "metadata": {},
   "outputs": [],
   "source": [
    "df.startDisplay = df.startDisplay.str.replace('In Occupied Crimea on ', '')"
   ]
  },
  {
   "cell_type": "code",
   "execution_count": 89,
   "id": "3bcf710d",
   "metadata": {
    "scrolled": false
   },
   "outputs": [],
   "source": [
    "df.startDisplay = pd.to_datetime(df.startDisplay)"
   ]
  },
  {
   "cell_type": "code",
   "execution_count": 117,
   "id": "ead16da9",
   "metadata": {
    "scrolled": false
   },
   "outputs": [
    {
     "data": {
      "image/png": "[encoded data removed]",
      "text/plain": [
       "<Figure size 864x504 with 1 Axes>"
      ]
     },
     "metadata": {},
     "output_type": "display_data"
    }
   ],
   "source": [
    "df.groupby('year_of_inprisoned').size().plot(kind='bar')\n",
    "# plt.xticks(np.unique(df.year_of_inprisoned).tolist())\n",
    "plt.title('Количество российских журналистов находящихся в заключении', fontsize=17);"
   ]
  },
  {
   "cell_type": "code",
   "execution_count": 116,
   "id": "a1c23f61",
   "metadata": {},
   "outputs": [
    {
     "data": {
      "image/png": "[encoded data removed]",
      "text/plain": [
       "<Figure size 864x504 with 1 Axes>"
      ]
     },
     "metadata": {},
     "output_type": "display_data"
    }
   ],
   "source": [
    "df.groupby(df.startDisplay.dt.year).size().plot(kind='bar')\n",
    "plt.title('Количество дел против росссийский журналистов за год', fontsize=17);"
   ]
  },
  {
   "cell_type": "code",
   "execution_count": null,
   "id": "8fe9121f",
   "metadata": {},
   "outputs": [],
   "source": []
  },
  {
   "cell_type": "code",
   "execution_count": null,
   "id": "76dd7503",
   "metadata": {},
   "outputs": [],
   "source": []
  }
 ],
 "metadata": {
  "kernelspec": {
   "display_name": "Python 3 (ipykernel)",
   "language": "python",
   "name": "python3"
  },
  "language_info": {
   "codemirror_mode": {
    "name": "ipython",
    "version": 3
   },
   "file_extension": ".py",
   "mimetype": "text/x-python",
   "name": "python",
   "nbconvert_exporter": "python",
   "pygments_lexer": "ipython3",
   "version": "3.9.12"
  },
  "papermill": {
   "default_parameters": {},
   "duration": 9051.114971,
   "end_time": "2022-07-15T16:36:35.601221",
   "environment_variables": {},
   "exception": null,
   "input_path": "__notebook__.ipynb",
   "output_path": "__notebook__.ipynb",
   "parameters": {},
   "start_time": "2022-07-15T14:05:44.486250",
   "version": "2.3.4"
  },
  "widgets": {
   "application/vnd.jupyter.widget-state+json": {
    "state": {
     "0670242ca1ed44acb7eb6991335a62cd": {
      "model_module": "@jupyter-widgets/controls",
      "model_module_version": "1.5.0",
      "model_name": "DescriptionStyleModel",
      "state": {
       "_model_module": "@jupyter-widgets/controls",
       "_model_module_version": "1.5.0",
       "_model_name": "DescriptionStyleModel",
       "_view_count": null,
       "_view_module": "@jupyter-widgets/base",
       "_view_module_version": "1.2.0",
       "_view_name": "StyleView",
       "description_width": ""
      }
     },
     "38e89a5744ef44b484846b6fd9164cd1": {
      "model_module": "@jupyter-widgets/controls",
      "model_module_version": "1.5.0",
      "model_name": "HBoxModel",
      "state": {
       "_dom_classes": [],
       "_model_module": "@jupyter-widgets/controls",
       "_model_module_version": "1.5.0",
       "_model_name": "HBoxModel",
       "_view_count": null,
       "_view_module": "@jupyter-widgets/controls",
       "_view_module_version": "1.5.0",
       "_view_name": "HBoxView",
       "box_style": "",
       "children": [
        "IPY_MODEL_e45c3acab96b4749917d2ed854c34964",
        "IPY_MODEL_ffdc8b4f8aa14f0da52206ce41c1c59c",
        "IPY_MODEL_9d4ad879b6034c42ba756754b8b62b38"
       ],
       "layout": "IPY_MODEL_f5393cb92f794c70b7ba1461e6a391ac"
      }
     },
     "650964452be140b4820778c6a93e5430": {
      "model_module": "@jupyter-widgets/base",
      "model_module_version": "1.2.0",
      "model_name": "LayoutModel",
      "state": {
       "_model_module": "@jupyter-widgets/base",
       "_model_module_version": "1.2.0",
       "_model_name": "LayoutModel",
       "_view_count": null,
       "_view_module": "@jupyter-widgets/base",
       "_view_module_version": "1.2.0",
       "_view_name": "LayoutView",
       "align_content": null,
       "align_items": null,
       "align_self": null,
       "border": null,
       "bottom": null,
       "display": null,
       "flex": null,
       "flex_flow": null,
       "grid_area": null,
       "grid_auto_columns": null,
       "grid_auto_flow": null,
       "grid_auto_rows": null,
       "grid_column": null,
       "grid_gap": null,
       "grid_row": null,
       "grid_template_areas": null,
       "grid_template_columns": null,
       "grid_template_rows": null,
       "height": null,
       "justify_content": null,
       "justify_items": null,
       "left": null,
       "margin": null,
       "max_height": null,
       "max_width": null,
       "min_height": null,
       "min_width": null,
       "object_fit": null,
       "object_position": null,
       "order": null,
       "overflow": null,
       "overflow_x": null,
       "overflow_y": null,
       "padding": null,
       "right": null,
       "top": null,
       "visibility": null,
       "width": null
      }
     },
     "8cc858d7056e4e0d8ab8dbba9b4d50e0": {
      "model_module": "@jupyter-widgets/controls",
      "model_module_version": "1.5.0",
      "model_name": "DescriptionStyleModel",
      "state": {
       "_model_module": "@jupyter-widgets/controls",
       "_model_module_version": "1.5.0",
       "_model_name": "DescriptionStyleModel",
       "_view_count": null,
       "_view_module": "@jupyter-widgets/base",
       "_view_module_version": "1.2.0",
       "_view_name": "StyleView",
       "description_width": ""
      }
     },
     "9d4ad879b6034c42ba756754b8b62b38": {
      "model_module": "@jupyter-widgets/controls",
      "model_module_version": "1.5.0",
      "model_name": "HTMLModel",
      "state": {
       "_dom_classes": [],
       "_model_module": "@jupyter-widgets/controls",
       "_model_module_version": "1.5.0",
       "_model_name": "HTMLModel",
       "_view_count": null,
       "_view_module": "@jupyter-widgets/controls",
       "_view_module_version": "1.5.0",
       "_view_name": "HTMLView",
       "description": "",
       "description_tooltip": null,
       "layout": "IPY_MODEL_a02647a2d8b143c99ebee78744ebb387",
       "placeholder": "​",
       "style": "IPY_MODEL_0670242ca1ed44acb7eb6991335a62cd",
       "value": " 1211/9999 [2:30:33&lt;19:51:01,  8.13s/it]"
      }
     },
     "a02647a2d8b143c99ebee78744ebb387": {
      "model_module": "@jupyter-widgets/base",
      "model_module_version": "1.2.0",
      "model_name": "LayoutModel",
      "state": {
       "_model_module": "@jupyter-widgets/base",
       "_model_module_version": "1.2.0",
       "_model_name": "LayoutModel",
       "_view_count": null,
       "_view_module": "@jupyter-widgets/base",
       "_view_module_version": "1.2.0",
       "_view_name": "LayoutView",
       "align_content": null,
       "align_items": null,
       "align_self": null,
       "border": null,
       "bottom": null,
       "display": null,
       "flex": null,
       "flex_flow": null,
       "grid_area": null,
       "grid_auto_columns": null,
       "grid_auto_flow": null,
       "grid_auto_rows": null,
       "grid_column": null,
       "grid_gap": null,
       "grid_row": null,
       "grid_template_areas": null,
       "grid_template_columns": null,
       "grid_template_rows": null,
       "height": null,
       "justify_content": null,
       "justify_items": null,
       "left": null,
       "margin": null,
       "max_height": null,
       "max_width": null,
       "min_height": null,
       "min_width": null,
       "object_fit": null,
       "object_position": null,
       "order": null,
       "overflow": null,
       "overflow_x": null,
       "overflow_y": null,
       "padding": null,
       "right": null,
       "top": null,
       "visibility": null,
       "width": null
      }
     },
     "cc14c74f870d4e8aaace8ab556d36eb3": {
      "model_module": "@jupyter-widgets/base",
      "model_module_version": "1.2.0",
      "model_name": "LayoutModel",
      "state": {
       "_model_module": "@jupyter-widgets/base",
       "_model_module_version": "1.2.0",
       "_model_name": "LayoutModel",
       "_view_count": null,
       "_view_module": "@jupyter-widgets/base",
       "_view_module_version": "1.2.0",
       "_view_name": "LayoutView",
       "align_content": null,
       "align_items": null,
       "align_self": null,
       "border": null,
       "bottom": null,
       "display": null,
       "flex": null,
       "flex_flow": null,
       "grid_area": null,
       "grid_auto_columns": null,
       "grid_auto_flow": null,
       "grid_auto_rows": null,
       "grid_column": null,
       "grid_gap": null,
       "grid_row": null,
       "grid_template_areas": null,
       "grid_template_columns": null,
       "grid_template_rows": null,
       "height": null,
       "justify_content": null,
       "justify_items": null,
       "left": null,
       "margin": null,
       "max_height": null,
       "max_width": null,
       "min_height": null,
       "min_width": null,
       "object_fit": null,
       "object_position": null,
       "order": null,
       "overflow": null,
       "overflow_x": null,
       "overflow_y": null,
       "padding": null,
       "right": null,
       "top": null,
       "visibility": null,
       "width": null
      }
     },
     "e45c3acab96b4749917d2ed854c34964": {
      "model_module": "@jupyter-widgets/controls",
      "model_module_version": "1.5.0",
      "model_name": "HTMLModel",
      "state": {
       "_dom_classes": [],
       "_model_module": "@jupyter-widgets/controls",
       "_model_module_version": "1.5.0",
       "_model_name": "HTMLModel",
       "_view_count": null,
       "_view_module": "@jupyter-widgets/controls",
       "_view_module_version": "1.5.0",
       "_view_name": "HTMLView",
       "description": "",
       "description_tooltip": null,
       "layout": "IPY_MODEL_cc14c74f870d4e8aaace8ab556d36eb3",
       "placeholder": "​",
       "style": "IPY_MODEL_8cc858d7056e4e0d8ab8dbba9b4d50e0",
       "value": " 12%"
      }
     },
     "e482fda3961844dea36f590933d0e65d": {
      "model_module": "@jupyter-widgets/controls",
      "model_module_version": "1.5.0",
      "model_name": "ProgressStyleModel",
      "state": {
       "_model_module": "@jupyter-widgets/controls",
       "_model_module_version": "1.5.0",
       "_model_name": "ProgressStyleModel",
       "_view_count": null,
       "_view_module": "@jupyter-widgets/base",
       "_view_module_version": "1.2.0",
       "_view_name": "StyleView",
       "bar_color": null,
       "description_width": ""
      }
     },
     "f5393cb92f794c70b7ba1461e6a391ac": {
      "model_module": "@jupyter-widgets/base",
      "model_module_version": "1.2.0",
      "model_name": "LayoutModel",
      "state": {
       "_model_module": "@jupyter-widgets/base",
       "_model_module_version": "1.2.0",
       "_model_name": "LayoutModel",
       "_view_count": null,
       "_view_module": "@jupyter-widgets/base",
       "_view_module_version": "1.2.0",
       "_view_name": "LayoutView",
       "align_content": null,
       "align_items": null,
       "align_self": null,
       "border": null,
       "bottom": null,
       "display": null,
       "flex": null,
       "flex_flow": null,
       "grid_area": null,
       "grid_auto_columns": null,
       "grid_auto_flow": null,
       "grid_auto_rows": null,
       "grid_column": null,
       "grid_gap": null,
       "grid_row": null,
       "grid_template_areas": null,
       "grid_template_columns": null,
       "grid_template_rows": null,
       "height": null,
       "justify_content": null,
       "justify_items": null,
       "left": null,
       "margin": null,
       "max_height": null,
       "max_width": null,
       "min_height": null,
       "min_width": null,
       "object_fit": null,
       "object_position": null,
       "order": null,
       "overflow": null,
       "overflow_x": null,
       "overflow_y": null,
       "padding": null,
       "right": null,
       "top": null,
       "visibility": null,
       "width": null
      }
     },
     "ffdc8b4f8aa14f0da52206ce41c1c59c": {
      "model_module": "@jupyter-widgets/controls",
      "model_module_version": "1.5.0",
      "model_name": "FloatProgressModel",
      "state": {
       "_dom_classes": [],
       "_model_module": "@jupyter-widgets/controls",
       "_model_module_version": "1.5.0",
       "_model_name": "FloatProgressModel",
       "_view_count": null,
       "_view_module": "@jupyter-widgets/controls",
       "_view_module_version": "1.5.0",
       "_view_name": "ProgressView",
       "bar_style": "danger",
       "description": "",
       "description_tooltip": null,
       "layout": "IPY_MODEL_650964452be140b4820778c6a93e5430",
       "max": 9999,
       "min": 0,
       "orientation": "horizontal",
       "style": "IPY_MODEL_e482fda3961844dea36f590933d0e65d",
       "value": 1211
      }
     }
    },
    "version_major": 2,
    "version_minor": 0
   }
  }
 },
 "nbformat": 4,
 "nbformat_minor": 5
}
