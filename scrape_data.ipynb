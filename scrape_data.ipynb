{
 "cells": [
  {
   "cell_type": "code",
   "execution_count": 1,
   "id": "e4c412ce",
   "metadata": {
    "execution": {
     "iopub.execute_input": "2022-07-15T14:05:54.768864Z",
     "iopub.status.busy": "2022-07-15T14:05:54.767615Z",
     "iopub.status.idle": "2022-07-15T14:05:56.174287Z",
     "shell.execute_reply": "2022-07-15T14:05:56.173023Z"
    },
    "papermill": {
     "duration": 1.414717,
     "end_time": "2022-07-15T14:05:56.177220",
     "exception": false,
     "start_time": "2022-07-15T14:05:54.762503",
     "status": "completed"
    },
    "tags": []
   },
   "outputs": [],
   "source": [
    "# from bs4 import BeautifulSoup\n",
    "import requests\n",
    "import pandas as pd\n",
    "from tqdm.notebook import tqdm\n",
    "import matplotlib.pyplot as plt\n",
    "import seaborn as sns\n",
    "import numpy as np\n",
    "sns.set_theme(style='whitegrid')\n",
    "sns.set(rc={\"figure.figsize\":(15, 10)})"
   ]
  },
  {
   "cell_type": "markdown",
   "id": "09d8bc95",
   "metadata": {
    "papermill": {
     "duration": 0.002012,
     "end_time": "2022-07-15T14:05:56.181848",
     "exception": false,
     "start_time": "2022-07-15T14:05:56.179836",
     "status": "completed"
    },
    "tags": []
   },
   "source": [
    "**Материалы Роскомсвободы о блокировках:**\n",
    "\n",
    "- [Военной цензуре подверглось более 3000 сайтов](https://roskomsvoboda.org/post/voennaya-cenzura-3000-saytov/)\n",
    "- [Военной цензурой накрыло более 5000 сайтов](https://roskomsvoboda.org/post/voen-cenzura-5300-saytov/)\n",
    "- [Военной цензуре подверглось более 1500 сайтов](https://roskomsvoboda.org/post/ban-1500-ssylok/)\n",
    "\n",
    "\n",
    "**Вопросы к материалу:**\n",
    "- Чем блокировки сейчас отличаются от блокировок раньше?\n",
    "- В блокировках присутствуют не только сайты политические или независимых медиа. Что это за сайты?\n",
    "- Чем отличаются блокировки РКН, судов, ФНС, генпрокуратуры и т.д?\n",
    "- Что произошло после 24 февраля?\n",
    "- Скачок был и в прошлом году примерно в это же время? Что тогда произошло? Какая-то странная сезонность в блокировках.\n",
    "- В абсолютных цифрах кол-во заблокированных сайтов увелиичилось не очень сильно, но при этом все независимые медиа заблокировано было именно в этом году. Что же блокировали в прошлые годы?"
   ]
  },
  {
   "cell_type": "markdown",
   "id": "45b667f0",
   "metadata": {
    "papermill": {
     "duration": 0.0019,
     "end_time": "2022-07-15T14:05:56.185940",
     "exception": false,
     "start_time": "2022-07-15T14:05:56.184040",
     "status": "completed"
    },
    "tags": []
   },
   "source": [
    "**scraping data**"
   ]
  },
  {
   "cell_type": "code",
   "execution_count": null,
   "id": "e60a1c76",
   "metadata": {
    "execution": {
     "iopub.execute_input": "2022-07-15T14:05:56.192669Z",
     "iopub.status.busy": "2022-07-15T14:05:56.191569Z",
     "iopub.status.idle": "2022-07-15T16:36:29.815776Z",
     "shell.execute_reply": "2022-07-15T16:36:29.814256Z"
    },
    "papermill": {
     "duration": 9033.630264,
     "end_time": "2022-07-15T16:36:29.818382",
     "exception": false,
     "start_time": "2022-07-15T14:05:56.188118",
     "status": "completed"
    },
    "tags": []
   },
   "outputs": [],
   "source": [
    "data = None\n",
    "for page in tqdm(range(1, 10000)):\n",
    "    url = f'https://reestr.rublacklist.net/?status=1&gov=all&paginate_by=500&page={page}'\n",
    "    r = requests.get(url)\n",
    "    if r.status_code == 404:\n",
    "        print('404')\n",
    "        break\n",
    "    if data is None:\n",
    "        data = pd.read_html(r.text)[0]\n",
    "    else:\n",
    "        try:\n",
    "            data = pd.concat([data, pd.read_html(r.text)[0]])\n",
    "        except Exception as e:\n",
    "            print(e)"
   ]
  },
  {
   "cell_type": "code",
   "execution_count": null,
   "id": "97312a83",
   "metadata": {},
   "outputs": [],
   "source": []
  },
  {
   "cell_type": "code",
   "execution_count": 20,
   "id": "b7d98cdb",
   "metadata": {
    "execution": {
     "iopub.execute_input": "2022-07-15T16:36:29.834863Z",
     "iopub.status.busy": "2022-07-15T16:36:29.833612Z",
     "iopub.status.idle": "2022-07-15T16:36:34.747300Z",
     "shell.execute_reply": "2022-07-15T16:36:34.745754Z"
    },
    "papermill": {
     "duration": 4.924876,
     "end_time": "2022-07-15T16:36:34.750298",
     "exception": false,
     "start_time": "2022-07-15T16:36:29.825422",
     "status": "completed"
    },
    "tags": []
   },
   "outputs": [],
   "source": [
    "data.to_csv('scraped_blocking_data.csv')"
   ]
  },
  {
   "cell_type": "code",
   "execution_count": null,
   "id": "c22c751e",
   "metadata": {},
   "outputs": [],
   "source": [
    "data.drop(['Unnamed: 0', 'Unnamed: 3'], axis=1, inplace=True)\n",
    "data.columns = ['date', 'site', 'who_blocked', 'count_of_blocked_domains']"
   ]
  },
  {
   "cell_type": "code",
   "execution_count": null,
   "id": "93b18c74",
   "metadata": {},
   "outputs": [],
   "source": [
    "data.date = pd.to_datetime(data.date)\n",
    "data['year'] = data.date.dt.year\n",
    "data['month'] = data.date.dt.month"
   ]
  },
  {
   "cell_type": "code",
   "execution_count": null,
   "id": "4afba4ac",
   "metadata": {},
   "outputs": [],
   "source": [
    "data.reset_index(inplace=True)\n",
    "data.drop('index', axis=1, inplace=True)"
   ]
  },
  {
   "cell_type": "markdown",
   "id": "cab10f62",
   "metadata": {},
   "source": [
    "**data analysis**"
   ]
  },
  {
   "cell_type": "code",
   "execution_count": 2,
   "id": "f22be717",
   "metadata": {},
   "outputs": [],
   "source": [
    "data = pd.read_csv('scraped_blocking_data.csv', index_col=0)"
   ]
  },
  {
   "cell_type": "code",
   "execution_count": 5,
   "id": "5b7f400f",
   "metadata": {},
   "outputs": [],
   "source": [
    "data.date = pd.to_datetime(data.date)"
   ]
  },
  {
   "cell_type": "code",
   "execution_count": 6,
   "id": "77a47032",
   "metadata": {},
   "outputs": [
    {
     "data": {
      "text/html": [
       "<div>\n",
       "<style scoped>\n",
       "    .dataframe tbody tr th:only-of-type {\n",
       "        vertical-align: middle;\n",
       "    }\n",
       "\n",
       "    .dataframe tbody tr th {\n",
       "        vertical-align: top;\n",
       "    }\n",
       "\n",
       "    .dataframe thead th {\n",
       "        text-align: right;\n",
       "    }\n",
       "</style>\n",
       "<table border=\"1\" class=\"dataframe\">\n",
       "  <thead>\n",
       "    <tr style=\"text-align: right;\">\n",
       "      <th></th>\n",
       "      <th>date</th>\n",
       "      <th>site</th>\n",
       "      <th>who_blocked</th>\n",
       "      <th>count_of_blocked_domains</th>\n",
       "      <th>year</th>\n",
       "      <th>month</th>\n",
       "    </tr>\n",
       "  </thead>\n",
       "  <tbody>\n",
       "    <tr>\n",
       "      <th>0</th>\n",
       "      <td>2022-07-15</td>\n",
       "      <td>piratebayproxy.autos</td>\n",
       "      <td>Минкомсвязь</td>\n",
       "      <td>0</td>\n",
       "      <td>2022</td>\n",
       "      <td>7</td>\n",
       "    </tr>\n",
       "    <tr>\n",
       "      <th>1</th>\n",
       "      <td>2022-07-15</td>\n",
       "      <td>plan-a.guru</td>\n",
       "      <td>Генпрокуратура</td>\n",
       "      <td>0</td>\n",
       "      <td>2022</td>\n",
       "      <td>7</td>\n",
       "    </tr>\n",
       "    <tr>\n",
       "      <th>2</th>\n",
       "      <td>2022-07-15</td>\n",
       "      <td>nu15.kinovod.cam</td>\n",
       "      <td>Минкомсвязь</td>\n",
       "      <td>0</td>\n",
       "      <td>2022</td>\n",
       "      <td>7</td>\n",
       "    </tr>\n",
       "    <tr>\n",
       "      <th>3</th>\n",
       "      <td>2022-07-15</td>\n",
       "      <td>mega-pesni.one</td>\n",
       "      <td>Минкомсвязь</td>\n",
       "      <td>0</td>\n",
       "      <td>2022</td>\n",
       "      <td>7</td>\n",
       "    </tr>\n",
       "    <tr>\n",
       "      <th>4</th>\n",
       "      <td>2022-07-15</td>\n",
       "      <td>thepiratebay.gg</td>\n",
       "      <td>Минкомсвязь</td>\n",
       "      <td>0</td>\n",
       "      <td>2022</td>\n",
       "      <td>7</td>\n",
       "    </tr>\n",
       "  </tbody>\n",
       "</table>\n",
       "</div>"
      ],
      "text/plain": [
       "        date                  site     who_blocked  count_of_blocked_domains  \\\n",
       "0 2022-07-15  piratebayproxy.autos     Минкомсвязь                         0   \n",
       "1 2022-07-15           plan-a.guru  Генпрокуратура                         0   \n",
       "2 2022-07-15      nu15.kinovod.cam     Минкомсвязь                         0   \n",
       "3 2022-07-15        mega-pesni.one     Минкомсвязь                         0   \n",
       "4 2022-07-15       thepiratebay.gg     Минкомсвязь                         0   \n",
       "\n",
       "   year  month  \n",
       "0  2022      7  \n",
       "1  2022      7  \n",
       "2  2022      7  \n",
       "3  2022      7  \n",
       "4  2022      7  "
      ]
     },
     "execution_count": 6,
     "metadata": {},
     "output_type": "execute_result"
    }
   ],
   "source": [
    "data.head()"
   ]
  },
  {
   "cell_type": "markdown",
   "id": "082b616c",
   "metadata": {},
   "source": [
    "Кол-во блокировок по годам. Блокировок в 2022 году уже больше, чем в 2020 и скоро обгонит предыдущий год. А ведь прошло только 7 месяцев 2022 года. "
   ]
  },
  {
   "cell_type": "code",
   "execution_count": 7,
   "id": "522996d6",
   "metadata": {},
   "outputs": [
    {
     "data": {
      "image/png": "[encoded data removed]",
      "text/plain": [
       "<Figure size 1080x720 with 1 Axes>"
      ]
     },
     "metadata": {},
     "output_type": "display_data"
    }
   ],
   "source": [
    "sns.countplot(\n",
    "    data=data,\n",
    "    x='year',\n",
    "    palette=\"Paired\",\n",
    ");"
   ]
  },
  {
   "cell_type": "code",
   "execution_count": 9,
   "id": "cfad96ef",
   "metadata": {},
   "outputs": [
    {
     "data": {
      "image/png": "[encoded data removed]",
      "text/plain": [
       "<Figure size 1080x720 with 1 Axes>"
      ]
     },
     "metadata": {},
     "output_type": "display_data"
    }
   ],
   "source": [
    "sns.lineplot(\n",
    "    data=data.groupby('year').size(),\n",
    ");"
   ]
  },
  {
   "cell_type": "code",
   "execution_count": 106,
   "id": "e69a77ca",
   "metadata": {},
   "outputs": [],
   "source": [
    "temp = data[(data.year >= 2018) & (data.month <= 6)].groupby(['year', 'month']).size().reset_index().sort_values(by=['year', 'month'], ascending=True)\n",
    "temp.columns = ['year', 'month', 'count']"
   ]
  },
  {
   "cell_type": "code",
   "execution_count": 152,
   "id": "fd61f756",
   "metadata": {},
   "outputs": [
    {
     "data": {
      "image/png": "[encoded data removed]",
      "text/plain": [
       "<Figure size 1080x720 with 1 Axes>"
      ]
     },
     "metadata": {},
     "output_type": "display_data"
    }
   ],
   "source": [
    "sns.lineplot(\n",
    "    data=temp[temp.year!=2022],\n",
    "    x='month',\n",
    "    y='count',\n",
    "    hue='year',\n",
    "    palette=\"Paired\",\n",
    ")\n",
    "\n",
    "sns.lineplot(\n",
    "    data=temp[temp.year==2022],\n",
    "    x='month',\n",
    "    y='count',\n",
    "    linewidth=6,\n",
    "    hue='year',\n",
    "    palette=\"rocket\",\n",
    ")\n",
    "\n",
    "plt.xticks(range(1, 7), ['янв', 'фев', 'март', 'апр', 'май', 'июнь'])\n",
    "plt.show()"
   ]
  },
  {
   "cell_type": "code",
   "execution_count": 153,
   "id": "151a0c0f",
   "metadata": {},
   "outputs": [],
   "source": [
    "# sns.lineplot(\n",
    "#     data=temp,\n",
    "#     x='month',\n",
    "#     y='count',\n",
    "#     hue='year',\n",
    "#     palette=\"Paired\"\n",
    "# )\n",
    "\n",
    "# plt.xticks(range(1, 7), ['янв', 'фев', 'март', 'апр', 'май', 'июнь'])\n",
    "# plt.show()"
   ]
  },
  {
   "cell_type": "code",
   "execution_count": 15,
   "id": "0130ba1a",
   "metadata": {},
   "outputs": [
    {
     "data": {
      "text/plain": [
       "who_blocked\n",
       "ФНС                                                          39735\n",
       "Мосгорсуд                                                    13667\n",
       "Генпрокуратура                                               12362\n",
       "Минкомсвязь                                                   6012\n",
       "Роскомнадзор                                                  5523\n",
       "МВД                                                           4913\n",
       "Росздравнадзор                                                3591\n",
       "Зареченский районный суд г.Тулы - Тульская область            3256\n",
       "РАР                                                           1609\n",
       "Куйбышевский районный суд г. Омска - Омская область            520\n",
       "Ленинский районный суд г. Костромы - Костромская область       512\n",
       "Ленинский районный суд г. Ижевска - Удмуртская Республика      427\n",
       "Зеленоградский районный суд - Калининградская область          363\n",
       "Центральный районный суд г. Барнаула - Алтайский край          312\n",
       "Октябрьский районный суд г. Омска - Омская область             286\n",
       "Октябрьский районный суд - Санкт-Петербург                     256\n",
       "Советский районный суд г. Махачкалы - Республика Дагестан      221\n",
       "Ленинский районный суд г. Воронежа - Воронежская область       207\n",
       "Южно-Сахалинский городской суд - Сахалинская область           190\n",
       "Ленинский районный суд г. Омска - Омская область               184\n",
       "dtype: int64"
      ]
     },
     "execution_count": 15,
     "metadata": {},
     "output_type": "execute_result"
    }
   ],
   "source": [
    "data[data.year == 2022].groupby('who_blocked').size().sort_values(ascending=False).head(20)"
   ]
  },
  {
   "cell_type": "code",
   "execution_count": null,
   "id": "53d1543e",
   "metadata": {},
   "outputs": [],
   "source": []
  }
 ],
 "metadata": {
  "kernelspec": {
   "display_name": "Python 3 (ipykernel)",
   "language": "python",
   "name": "python3"
  },
  "language_info": {
   "codemirror_mode": {
    "name": "ipython",
    "version": 3
   },
   "file_extension": ".py",
   "mimetype": "text/x-python",
   "name": "python",
   "nbconvert_exporter": "python",
   "pygments_lexer": "ipython3",
   "version": "3.9.12"
  },
  "papermill": {
   "default_parameters": {},
   "duration": 9051.114971,
   "end_time": "2022-07-15T16:36:35.601221",
   "environment_variables": {},
   "exception": null,
   "input_path": "__notebook__.ipynb",
   "output_path": "__notebook__.ipynb",
   "parameters": {},
   "start_time": "2022-07-15T14:05:44.486250",
   "version": "2.3.4"
  },
  "widgets": {
   "application/vnd.jupyter.widget-state+json": {
    "state": {
     "0670242ca1ed44acb7eb6991335a62cd": {
      "model_module": "@jupyter-widgets/controls",
      "model_module_version": "1.5.0",
      "model_name": "DescriptionStyleModel",
      "state": {
       "_model_module": "@jupyter-widgets/controls",
       "_model_module_version": "1.5.0",
       "_model_name": "DescriptionStyleModel",
       "_view_count": null,
       "_view_module": "@jupyter-widgets/base",
       "_view_module_version": "1.2.0",
       "_view_name": "StyleView",
       "description_width": ""
      }
     },
     "38e89a5744ef44b484846b6fd9164cd1": {
      "model_module": "@jupyter-widgets/controls",
      "model_module_version": "1.5.0",
      "model_name": "HBoxModel",
      "state": {
       "_dom_classes": [],
       "_model_module": "@jupyter-widgets/controls",
       "_model_module_version": "1.5.0",
       "_model_name": "HBoxModel",
       "_view_count": null,
       "_view_module": "@jupyter-widgets/controls",
       "_view_module_version": "1.5.0",
       "_view_name": "HBoxView",
       "box_style": "",
       "children": [
        "IPY_MODEL_e45c3acab96b4749917d2ed854c34964",
        "IPY_MODEL_ffdc8b4f8aa14f0da52206ce41c1c59c",
        "IPY_MODEL_9d4ad879b6034c42ba756754b8b62b38"
       ],
       "layout": "IPY_MODEL_f5393cb92f794c70b7ba1461e6a391ac"
      }
     },
     "650964452be140b4820778c6a93e5430": {
      "model_module": "@jupyter-widgets/base",
      "model_module_version": "1.2.0",
      "model_name": "LayoutModel",
      "state": {
       "_model_module": "@jupyter-widgets/base",
       "_model_module_version": "1.2.0",
       "_model_name": "LayoutModel",
       "_view_count": null,
       "_view_module": "@jupyter-widgets/base",
       "_view_module_version": "1.2.0",
       "_view_name": "LayoutView",
       "align_content": null,
       "align_items": null,
       "align_self": null,
       "border": null,
       "bottom": null,
       "display": null,
       "flex": null,
       "flex_flow": null,
       "grid_area": null,
       "grid_auto_columns": null,
       "grid_auto_flow": null,
       "grid_auto_rows": null,
       "grid_column": null,
       "grid_gap": null,
       "grid_row": null,
       "grid_template_areas": null,
       "grid_template_columns": null,
       "grid_template_rows": null,
       "height": null,
       "justify_content": null,
       "justify_items": null,
       "left": null,
       "margin": null,
       "max_height": null,
       "max_width": null,
       "min_height": null,
       "min_width": null,
       "object_fit": null,
       "object_position": null,
       "order": null,
       "overflow": null,
       "overflow_x": null,
       "overflow_y": null,
       "padding": null,
       "right": null,
       "top": null,
       "visibility": null,
       "width": null
      }
     },
     "8cc858d7056e4e0d8ab8dbba9b4d50e0": {
      "model_module": "@jupyter-widgets/controls",
      "model_module_version": "1.5.0",
      "model_name": "DescriptionStyleModel",
      "state": {
       "_model_module": "@jupyter-widgets/controls",
       "_model_module_version": "1.5.0",
       "_model_name": "DescriptionStyleModel",
       "_view_count": null,
       "_view_module": "@jupyter-widgets/base",
       "_view_module_version": "1.2.0",
       "_view_name": "StyleView",
       "description_width": ""
      }
     },
     "9d4ad879b6034c42ba756754b8b62b38": {
      "model_module": "@jupyter-widgets/controls",
      "model_module_version": "1.5.0",
      "model_name": "HTMLModel",
      "state": {
       "_dom_classes": [],
       "_model_module": "@jupyter-widgets/controls",
       "_model_module_version": "1.5.0",
       "_model_name": "HTMLModel",
       "_view_count": null,
       "_view_module": "@jupyter-widgets/controls",
       "_view_module_version": "1.5.0",
       "_view_name": "HTMLView",
       "description": "",
       "description_tooltip": null,
       "layout": "IPY_MODEL_a02647a2d8b143c99ebee78744ebb387",
       "placeholder": "​",
       "style": "IPY_MODEL_0670242ca1ed44acb7eb6991335a62cd",
       "value": " 1211/9999 [2:30:33&lt;19:51:01,  8.13s/it]"
      }
     },
     "a02647a2d8b143c99ebee78744ebb387": {
      "model_module": "@jupyter-widgets/base",
      "model_module_version": "1.2.0",
      "model_name": "LayoutModel",
      "state": {
       "_model_module": "@jupyter-widgets/base",
       "_model_module_version": "1.2.0",
       "_model_name": "LayoutModel",
       "_view_count": null,
       "_view_module": "@jupyter-widgets/base",
       "_view_module_version": "1.2.0",
       "_view_name": "LayoutView",
       "align_content": null,
       "align_items": null,
       "align_self": null,
       "border": null,
       "bottom": null,
       "display": null,
       "flex": null,
       "flex_flow": null,
       "grid_area": null,
       "grid_auto_columns": null,
       "grid_auto_flow": null,
       "grid_auto_rows": null,
       "grid_column": null,
       "grid_gap": null,
       "grid_row": null,
       "grid_template_areas": null,
       "grid_template_columns": null,
       "grid_template_rows": null,
       "height": null,
       "justify_content": null,
       "justify_items": null,
       "left": null,
       "margin": null,
       "max_height": null,
       "max_width": null,
       "min_height": null,
       "min_width": null,
       "object_fit": null,
       "object_position": null,
       "order": null,
       "overflow": null,
       "overflow_x": null,
       "overflow_y": null,
       "padding": null,
       "right": null,
       "top": null,
       "visibility": null,
       "width": null
      }
     },
     "cc14c74f870d4e8aaace8ab556d36eb3": {
      "model_module": "@jupyter-widgets/base",
      "model_module_version": "1.2.0",
      "model_name": "LayoutModel",
      "state": {
       "_model_module": "@jupyter-widgets/base",
       "_model_module_version": "1.2.0",
       "_model_name": "LayoutModel",
       "_view_count": null,
       "_view_module": "@jupyter-widgets/base",
       "_view_module_version": "1.2.0",
       "_view_name": "LayoutView",
       "align_content": null,
       "align_items": null,
       "align_self": null,
       "border": null,
       "bottom": null,
       "display": null,
       "flex": null,
       "flex_flow": null,
       "grid_area": null,
       "grid_auto_columns": null,
       "grid_auto_flow": null,
       "grid_auto_rows": null,
       "grid_column": null,
       "grid_gap": null,
       "grid_row": null,
       "grid_template_areas": null,
       "grid_template_columns": null,
       "grid_template_rows": null,
       "height": null,
       "justify_content": null,
       "justify_items": null,
       "left": null,
       "margin": null,
       "max_height": null,
       "max_width": null,
       "min_height": null,
       "min_width": null,
       "object_fit": null,
       "object_position": null,
       "order": null,
       "overflow": null,
       "overflow_x": null,
       "overflow_y": null,
       "padding": null,
       "right": null,
       "top": null,
       "visibility": null,
       "width": null
      }
     },
     "e45c3acab96b4749917d2ed854c34964": {
      "model_module": "@jupyter-widgets/controls",
      "model_module_version": "1.5.0",
      "model_name": "HTMLModel",
      "state": {
       "_dom_classes": [],
       "_model_module": "@jupyter-widgets/controls",
       "_model_module_version": "1.5.0",
       "_model_name": "HTMLModel",
       "_view_count": null,
       "_view_module": "@jupyter-widgets/controls",
       "_view_module_version": "1.5.0",
       "_view_name": "HTMLView",
       "description": "",
       "description_tooltip": null,
       "layout": "IPY_MODEL_cc14c74f870d4e8aaace8ab556d36eb3",
       "placeholder": "​",
       "style": "IPY_MODEL_8cc858d7056e4e0d8ab8dbba9b4d50e0",
       "value": " 12%"
      }
     },
     "e482fda3961844dea36f590933d0e65d": {
      "model_module": "@jupyter-widgets/controls",
      "model_module_version": "1.5.0",
      "model_name": "ProgressStyleModel",
      "state": {
       "_model_module": "@jupyter-widgets/controls",
       "_model_module_version": "1.5.0",
       "_model_name": "ProgressStyleModel",
       "_view_count": null,
       "_view_module": "@jupyter-widgets/base",
       "_view_module_version": "1.2.0",
       "_view_name": "StyleView",
       "bar_color": null,
       "description_width": ""
      }
     },
     "f5393cb92f794c70b7ba1461e6a391ac": {
      "model_module": "@jupyter-widgets/base",
      "model_module_version": "1.2.0",
      "model_name": "LayoutModel",
      "state": {
       "_model_module": "@jupyter-widgets/base",
       "_model_module_version": "1.2.0",
       "_model_name": "LayoutModel",
       "_view_count": null,
       "_view_module": "@jupyter-widgets/base",
       "_view_module_version": "1.2.0",
       "_view_name": "LayoutView",
       "align_content": null,
       "align_items": null,
       "align_self": null,
       "border": null,
       "bottom": null,
       "display": null,
       "flex": null,
       "flex_flow": null,
       "grid_area": null,
       "grid_auto_columns": null,
       "grid_auto_flow": null,
       "grid_auto_rows": null,
       "grid_column": null,
       "grid_gap": null,
       "grid_row": null,
       "grid_template_areas": null,
       "grid_template_columns": null,
       "grid_template_rows": null,
       "height": null,
       "justify_content": null,
       "justify_items": null,
       "left": null,
       "margin": null,
       "max_height": null,
       "max_width": null,
       "min_height": null,
       "min_width": null,
       "object_fit": null,
       "object_position": null,
       "order": null,
       "overflow": null,
       "overflow_x": null,
       "overflow_y": null,
       "padding": null,
       "right": null,
       "top": null,
       "visibility": null,
       "width": null
      }
     },
     "ffdc8b4f8aa14f0da52206ce41c1c59c": {
      "model_module": "@jupyter-widgets/controls",
      "model_module_version": "1.5.0",
      "model_name": "FloatProgressModel",
      "state": {
       "_dom_classes": [],
       "_model_module": "@jupyter-widgets/controls",
       "_model_module_version": "1.5.0",
       "_model_name": "FloatProgressModel",
       "_view_count": null,
       "_view_module": "@jupyter-widgets/controls",
       "_view_module_version": "1.5.0",
       "_view_name": "ProgressView",
       "bar_style": "danger",
       "description": "",
       "description_tooltip": null,
       "layout": "IPY_MODEL_650964452be140b4820778c6a93e5430",
       "max": 9999,
       "min": 0,
       "orientation": "horizontal",
       "style": "IPY_MODEL_e482fda3961844dea36f590933d0e65d",
       "value": 1211
      }
     }
    },
    "version_major": 2,
    "version_minor": 0
   }
  }
 },
 "nbformat": 4,
 "nbformat_minor": 5
}
