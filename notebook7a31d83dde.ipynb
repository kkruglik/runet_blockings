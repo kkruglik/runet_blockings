{
 "cells": [
  {
   "cell_type": "code",
   "execution_count": 1,
   "id": "e4c412ce",
   "metadata": {
    "execution": {
     "iopub.execute_input": "2022-07-15T14:05:54.768864Z",
     "iopub.status.busy": "2022-07-15T14:05:54.767615Z",
     "iopub.status.idle": "2022-07-15T14:05:56.174287Z",
     "shell.execute_reply": "2022-07-15T14:05:56.173023Z"
    },
    "papermill": {
     "duration": 1.414717,
     "end_time": "2022-07-15T14:05:56.177220",
     "exception": false,
     "start_time": "2022-07-15T14:05:54.762503",
     "status": "completed"
    },
    "tags": []
   },
   "outputs": [],
   "source": [
    "from bs4 import BeautifulSoup\n",
    "import requests\n",
    "import pandas as pd\n",
    "from tqdm.notebook import tqdm\n",
    "import matplotlib.pyplot as plt\n",
    "import seaborn as sns\n",
    "import numpy as np\n",
    "sns.set_theme(style='whitegrid')\n",
    "sns.set(rc={\"figure.figsize\":(15, 10)})"
   ]
  },
  {
   "cell_type": "markdown",
   "id": "09d8bc95",
   "metadata": {
    "papermill": {
     "duration": 0.002012,
     "end_time": "2022-07-15T14:05:56.181848",
     "exception": false,
     "start_time": "2022-07-15T14:05:56.179836",
     "status": "completed"
    },
    "tags": []
   },
   "source": [
    "**Материалы Роскомсвободы о блокировках:**\n",
    "\n",
    "- [Военной цензуре подверглось более 3000 сайтов](https://roskomsvoboda.org/post/voennaya-cenzura-3000-saytov/)\n",
    "- [Военной цензурой накрыло более 5000 сайтов](https://roskomsvoboda.org/post/voen-cenzura-5300-saytov/)\n",
    "- [Военной цензуре подверглось более 1500 сайтов](https://roskomsvoboda.org/post/ban-1500-ssylok/)\n",
    "\n",
    "\n",
    "**Вопросы к материалу:**\n",
    "- Чем блокировки сейчас отличаются от блокировок раньше?\n",
    "- В блокировках присутствуют не только сайты политические или независимых медиа. Что это за сайты?\n",
    "- Чем отличаются блокировки РКН, судов, ФНС, генпрокуратуры и т.д?\n",
    "- Что произошло после 24 февраля?\n",
    "- Скачок был и в прошлом году примерно в это же время? Что тогда произошло? Какая-то странная сезонность в блокировках.\n",
    "- В абсолютных цифрах кол-во заблокированных сайтов увелиичилось не очень сильно, но при этом все независимые медиа заблокировано было именно в этом году. Что же блокировали в прошлые годы?"
   ]
  },
  {
   "cell_type": "markdown",
   "id": "45b667f0",
   "metadata": {
    "papermill": {
     "duration": 0.0019,
     "end_time": "2022-07-15T14:05:56.185940",
     "exception": false,
     "start_time": "2022-07-15T14:05:56.184040",
     "status": "completed"
    },
    "tags": []
   },
   "source": [
    "**scraping data**"
   ]
  },
  {
   "cell_type": "code",
   "execution_count": 2,
   "id": "e60a1c76",
   "metadata": {
    "execution": {
     "iopub.execute_input": "2022-07-15T14:05:56.192669Z",
     "iopub.status.busy": "2022-07-15T14:05:56.191569Z",
     "iopub.status.idle": "2022-07-15T16:36:29.815776Z",
     "shell.execute_reply": "2022-07-15T16:36:29.814256Z"
    },
    "papermill": {
     "duration": 9033.630264,
     "end_time": "2022-07-15T16:36:29.818382",
     "exception": false,
     "start_time": "2022-07-15T14:05:56.188118",
     "status": "completed"
    },
    "tags": []
   },
   "outputs": [
    {
     "data": {
      "application/vnd.jupyter.widget-view+json": {
       "model_id": "38e89a5744ef44b484846b6fd9164cd1",
       "version_major": 2,
       "version_minor": 0
      },
      "text/plain": [
       "  0%|          | 0/9999 [00:00<?, ?it/s]"
      ]
     },
     "metadata": {},
     "output_type": "display_data"
    },
    {
     "name": "stdout",
     "output_type": "stream",
     "text": [
      "No tables found\n",
      "No tables found\n",
      "No tables found\n",
      "No tables found\n",
      "No tables found\n",
      "No tables found\n",
      "No tables found\n",
      "No tables found\n",
      "No tables found\n",
      "No tables found\n",
      "No tables found\n",
      "No tables found\n",
      "No tables found\n",
      "No tables found\n",
      "No tables found\n",
      "No tables found\n",
      "No tables found\n",
      "No tables found\n",
      "No tables found\n",
      "No tables found\n",
      "No tables found\n",
      "No tables found\n",
      "No tables found\n",
      "No tables found\n",
      "No tables found\n",
      "No tables found\n",
      "No tables found\n",
      "No tables found\n",
      "No tables found\n",
      "No tables found\n",
      "No tables found\n",
      "No tables found\n",
      "No tables found\n",
      "No tables found\n",
      "No tables found\n",
      "No tables found\n",
      "No tables found\n",
      "No tables found\n",
      "No tables found\n",
      "No tables found\n",
      "No tables found\n",
      "No tables found\n",
      "No tables found\n",
      "No tables found\n",
      "No tables found\n",
      "No tables found\n",
      "No tables found\n",
      "No tables found\n",
      "No tables found\n",
      "No tables found\n",
      "No tables found\n",
      "No tables found\n",
      "404\n"
     ]
    }
   ],
   "source": [
    "data = None\n",
    "for page in tqdm(range(1, 10000)):\n",
    "    url = f'https://reestr.rublacklist.net/?status=1&gov=all&paginate_by=500&page={page}'\n",
    "    r = requests.get(url)\n",
    "    if r.status_code == 404:\n",
    "        print('404')\n",
    "        break\n",
    "    if data is None:\n",
    "        data = pd.read_html(r.text)[0]\n",
    "    else:\n",
    "        try:\n",
    "            data = pd.concat([data, pd.read_html(r.text)[0]])\n",
    "        except Exception as e:\n",
    "            print(e)"
   ]
  },
  {
   "cell_type": "code",
   "execution_count": 3,
   "id": "b7d98cdb",
   "metadata": {
    "execution": {
     "iopub.execute_input": "2022-07-15T16:36:29.834863Z",
     "iopub.status.busy": "2022-07-15T16:36:29.833612Z",
     "iopub.status.idle": "2022-07-15T16:36:34.747300Z",
     "shell.execute_reply": "2022-07-15T16:36:34.745754Z"
    },
    "papermill": {
     "duration": 4.924876,
     "end_time": "2022-07-15T16:36:34.750298",
     "exception": false,
     "start_time": "2022-07-15T16:36:29.825422",
     "status": "completed"
    },
    "tags": []
   },
   "outputs": [],
   "source": [
    "data.to_csv('scraped_blocking_data.csv')"
   ]
  }
 ],
 "metadata": {
  "kernelspec": {
   "display_name": "Python 3",
   "language": "python",
   "name": "python3"
  },
  "language_info": {
   "codemirror_mode": {
    "name": "ipython",
    "version": 3
   },
   "file_extension": ".py",
   "mimetype": "text/x-python",
   "name": "python",
   "nbconvert_exporter": "python",
   "pygments_lexer": "ipython3",
   "version": "3.7.12"
  },
  "papermill": {
   "default_parameters": {},
   "duration": 9051.114971,
   "end_time": "2022-07-15T16:36:35.601221",
   "environment_variables": {},
   "exception": null,
   "input_path": "__notebook__.ipynb",
   "output_path": "__notebook__.ipynb",
   "parameters": {},
   "start_time": "2022-07-15T14:05:44.486250",
   "version": "2.3.4"
  },
  "widgets": {
   "application/vnd.jupyter.widget-state+json": {
    "state": {
     "0670242ca1ed44acb7eb6991335a62cd": {
      "model_module": "@jupyter-widgets/controls",
      "model_module_version": "1.5.0",
      "model_name": "DescriptionStyleModel",
      "state": {
       "_model_module": "@jupyter-widgets/controls",
       "_model_module_version": "1.5.0",
       "_model_name": "DescriptionStyleModel",
       "_view_count": null,
       "_view_module": "@jupyter-widgets/base",
       "_view_module_version": "1.2.0",
       "_view_name": "StyleView",
       "description_width": ""
      }
     },
     "38e89a5744ef44b484846b6fd9164cd1": {
      "model_module": "@jupyter-widgets/controls",
      "model_module_version": "1.5.0",
      "model_name": "HBoxModel",
      "state": {
       "_dom_classes": [],
       "_model_module": "@jupyter-widgets/controls",
       "_model_module_version": "1.5.0",
       "_model_name": "HBoxModel",
       "_view_count": null,
       "_view_module": "@jupyter-widgets/controls",
       "_view_module_version": "1.5.0",
       "_view_name": "HBoxView",
       "box_style": "",
       "children": [
        "IPY_MODEL_e45c3acab96b4749917d2ed854c34964",
        "IPY_MODEL_ffdc8b4f8aa14f0da52206ce41c1c59c",
        "IPY_MODEL_9d4ad879b6034c42ba756754b8b62b38"
       ],
       "layout": "IPY_MODEL_f5393cb92f794c70b7ba1461e6a391ac"
      }
     },
     "650964452be140b4820778c6a93e5430": {
      "model_module": "@jupyter-widgets/base",
      "model_module_version": "1.2.0",
      "model_name": "LayoutModel",
      "state": {
       "_model_module": "@jupyter-widgets/base",
       "_model_module_version": "1.2.0",
       "_model_name": "LayoutModel",
       "_view_count": null,
       "_view_module": "@jupyter-widgets/base",
       "_view_module_version": "1.2.0",
       "_view_name": "LayoutView",
       "align_content": null,
       "align_items": null,
       "align_self": null,
       "border": null,
       "bottom": null,
       "display": null,
       "flex": null,
       "flex_flow": null,
       "grid_area": null,
       "grid_auto_columns": null,
       "grid_auto_flow": null,
       "grid_auto_rows": null,
       "grid_column": null,
       "grid_gap": null,
       "grid_row": null,
       "grid_template_areas": null,
       "grid_template_columns": null,
       "grid_template_rows": null,
       "height": null,
       "justify_content": null,
       "justify_items": null,
       "left": null,
       "margin": null,
       "max_height": null,
       "max_width": null,
       "min_height": null,
       "min_width": null,
       "object_fit": null,
       "object_position": null,
       "order": null,
       "overflow": null,
       "overflow_x": null,
       "overflow_y": null,
       "padding": null,
       "right": null,
       "top": null,
       "visibility": null,
       "width": null
      }
     },
     "8cc858d7056e4e0d8ab8dbba9b4d50e0": {
      "model_module": "@jupyter-widgets/controls",
      "model_module_version": "1.5.0",
      "model_name": "DescriptionStyleModel",
      "state": {
       "_model_module": "@jupyter-widgets/controls",
       "_model_module_version": "1.5.0",
       "_model_name": "DescriptionStyleModel",
       "_view_count": null,
       "_view_module": "@jupyter-widgets/base",
       "_view_module_version": "1.2.0",
       "_view_name": "StyleView",
       "description_width": ""
      }
     },
     "9d4ad879b6034c42ba756754b8b62b38": {
      "model_module": "@jupyter-widgets/controls",
      "model_module_version": "1.5.0",
      "model_name": "HTMLModel",
      "state": {
       "_dom_classes": [],
       "_model_module": "@jupyter-widgets/controls",
       "_model_module_version": "1.5.0",
       "_model_name": "HTMLModel",
       "_view_count": null,
       "_view_module": "@jupyter-widgets/controls",
       "_view_module_version": "1.5.0",
       "_view_name": "HTMLView",
       "description": "",
       "description_tooltip": null,
       "layout": "IPY_MODEL_a02647a2d8b143c99ebee78744ebb387",
       "placeholder": "​",
       "style": "IPY_MODEL_0670242ca1ed44acb7eb6991335a62cd",
       "value": " 1211/9999 [2:30:33&lt;19:51:01,  8.13s/it]"
      }
     },
     "a02647a2d8b143c99ebee78744ebb387": {
      "model_module": "@jupyter-widgets/base",
      "model_module_version": "1.2.0",
      "model_name": "LayoutModel",
      "state": {
       "_model_module": "@jupyter-widgets/base",
       "_model_module_version": "1.2.0",
       "_model_name": "LayoutModel",
       "_view_count": null,
       "_view_module": "@jupyter-widgets/base",
       "_view_module_version": "1.2.0",
       "_view_name": "LayoutView",
       "align_content": null,
       "align_items": null,
       "align_self": null,
       "border": null,
       "bottom": null,
       "display": null,
       "flex": null,
       "flex_flow": null,
       "grid_area": null,
       "grid_auto_columns": null,
       "grid_auto_flow": null,
       "grid_auto_rows": null,
       "grid_column": null,
       "grid_gap": null,
       "grid_row": null,
       "grid_template_areas": null,
       "grid_template_columns": null,
       "grid_template_rows": null,
       "height": null,
       "justify_content": null,
       "justify_items": null,
       "left": null,
       "margin": null,
       "max_height": null,
       "max_width": null,
       "min_height": null,
       "min_width": null,
       "object_fit": null,
       "object_position": null,
       "order": null,
       "overflow": null,
       "overflow_x": null,
       "overflow_y": null,
       "padding": null,
       "right": null,
       "top": null,
       "visibility": null,
       "width": null
      }
     },
     "cc14c74f870d4e8aaace8ab556d36eb3": {
      "model_module": "@jupyter-widgets/base",
      "model_module_version": "1.2.0",
      "model_name": "LayoutModel",
      "state": {
       "_model_module": "@jupyter-widgets/base",
       "_model_module_version": "1.2.0",
       "_model_name": "LayoutModel",
       "_view_count": null,
       "_view_module": "@jupyter-widgets/base",
       "_view_module_version": "1.2.0",
       "_view_name": "LayoutView",
       "align_content": null,
       "align_items": null,
       "align_self": null,
       "border": null,
       "bottom": null,
       "display": null,
       "flex": null,
       "flex_flow": null,
       "grid_area": null,
       "grid_auto_columns": null,
       "grid_auto_flow": null,
       "grid_auto_rows": null,
       "grid_column": null,
       "grid_gap": null,
       "grid_row": null,
       "grid_template_areas": null,
       "grid_template_columns": null,
       "grid_template_rows": null,
       "height": null,
       "justify_content": null,
       "justify_items": null,
       "left": null,
       "margin": null,
       "max_height": null,
       "max_width": null,
       "min_height": null,
       "min_width": null,
       "object_fit": null,
       "object_position": null,
       "order": null,
       "overflow": null,
       "overflow_x": null,
       "overflow_y": null,
       "padding": null,
       "right": null,
       "top": null,
       "visibility": null,
       "width": null
      }
     },
     "e45c3acab96b4749917d2ed854c34964": {
      "model_module": "@jupyter-widgets/controls",
      "model_module_version": "1.5.0",
      "model_name": "HTMLModel",
      "state": {
       "_dom_classes": [],
       "_model_module": "@jupyter-widgets/controls",
       "_model_module_version": "1.5.0",
       "_model_name": "HTMLModel",
       "_view_count": null,
       "_view_module": "@jupyter-widgets/controls",
       "_view_module_version": "1.5.0",
       "_view_name": "HTMLView",
       "description": "",
       "description_tooltip": null,
       "layout": "IPY_MODEL_cc14c74f870d4e8aaace8ab556d36eb3",
       "placeholder": "​",
       "style": "IPY_MODEL_8cc858d7056e4e0d8ab8dbba9b4d50e0",
       "value": " 12%"
      }
     },
     "e482fda3961844dea36f590933d0e65d": {
      "model_module": "@jupyter-widgets/controls",
      "model_module_version": "1.5.0",
      "model_name": "ProgressStyleModel",
      "state": {
       "_model_module": "@jupyter-widgets/controls",
       "_model_module_version": "1.5.0",
       "_model_name": "ProgressStyleModel",
       "_view_count": null,
       "_view_module": "@jupyter-widgets/base",
       "_view_module_version": "1.2.0",
       "_view_name": "StyleView",
       "bar_color": null,
       "description_width": ""
      }
     },
     "f5393cb92f794c70b7ba1461e6a391ac": {
      "model_module": "@jupyter-widgets/base",
      "model_module_version": "1.2.0",
      "model_name": "LayoutModel",
      "state": {
       "_model_module": "@jupyter-widgets/base",
       "_model_module_version": "1.2.0",
       "_model_name": "LayoutModel",
       "_view_count": null,
       "_view_module": "@jupyter-widgets/base",
       "_view_module_version": "1.2.0",
       "_view_name": "LayoutView",
       "align_content": null,
       "align_items": null,
       "align_self": null,
       "border": null,
       "bottom": null,
       "display": null,
       "flex": null,
       "flex_flow": null,
       "grid_area": null,
       "grid_auto_columns": null,
       "grid_auto_flow": null,
       "grid_auto_rows": null,
       "grid_column": null,
       "grid_gap": null,
       "grid_row": null,
       "grid_template_areas": null,
       "grid_template_columns": null,
       "grid_template_rows": null,
       "height": null,
       "justify_content": null,
       "justify_items": null,
       "left": null,
       "margin": null,
       "max_height": null,
       "max_width": null,
       "min_height": null,
       "min_width": null,
       "object_fit": null,
       "object_position": null,
       "order": null,
       "overflow": null,
       "overflow_x": null,
       "overflow_y": null,
       "padding": null,
       "right": null,
       "top": null,
       "visibility": null,
       "width": null
      }
     },
     "ffdc8b4f8aa14f0da52206ce41c1c59c": {
      "model_module": "@jupyter-widgets/controls",
      "model_module_version": "1.5.0",
      "model_name": "FloatProgressModel",
      "state": {
       "_dom_classes": [],
       "_model_module": "@jupyter-widgets/controls",
       "_model_module_version": "1.5.0",
       "_model_name": "FloatProgressModel",
       "_view_count": null,
       "_view_module": "@jupyter-widgets/controls",
       "_view_module_version": "1.5.0",
       "_view_name": "ProgressView",
       "bar_style": "danger",
       "description": "",
       "description_tooltip": null,
       "layout": "IPY_MODEL_650964452be140b4820778c6a93e5430",
       "max": 9999.0,
       "min": 0.0,
       "orientation": "horizontal",
       "style": "IPY_MODEL_e482fda3961844dea36f590933d0e65d",
       "value": 1211.0
      }
     }
    },
    "version_major": 2,
    "version_minor": 0
   }
  }
 },
 "nbformat": 4,
 "nbformat_minor": 5
}
